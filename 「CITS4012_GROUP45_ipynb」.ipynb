{
  "cells": [
    {
      "cell_type": "markdown",
      "metadata": {
        "id": "view-in-github",
        "colab_type": "text"
      },
      "source": [
        "<a href=\"https://colab.research.google.com/github/peanut4556/CITS4012_NLP/blob/main/%E3%80%8CCITS4012_GROUP45_ipynb%E3%80%8D.ipynb\" target=\"_parent\"><img src=\"https://colab.research.google.com/assets/colab-badge.svg\" alt=\"Open In Colab\"/></a>"
      ]
    },
    {
      "cell_type": "markdown",
      "metadata": {
        "id": "32yCsRUo8H33"
      },
      "source": [
        "# 2025 CITS4012 Project\n",
        "*Make sure you change the file name with your group id.*"
      ]
    },
    {
      "cell_type": "markdown",
      "metadata": {
        "id": "XCybYoGz8YWQ"
      },
      "source": [
        "# Readme\n",
        "*If there is something to be noted for the marker, please mention here.*\n",
        "\n",
        "*If you are planning to implement a program with Object Oriented Programming style, please put those the bottom of this ipynb file*"
      ]
    },
    {
      "cell_type": "markdown",
      "metadata": {
        "id": "6po98qVA8bJD"
      },
      "source": [
        "# 1.Dataset Processing\n",
        "(You can add as many code blocks and text blocks as you need. However, YOU SHOULD NOT MODIFY the section title)"
      ]
    },
    {
      "cell_type": "code",
      "execution_count": null,
      "metadata": {
        "colab": {
          "base_uri": "https://localhost:8080/"
        },
        "id": "qvff21Hv8zjk",
        "outputId": "9d40fd0b-e98b-40fe-8924-b1be63f4d44c"
      },
      "outputs": [
        {
          "output_type": "stream",
          "name": "stdout",
          "text": [
            "DEVICE: cuda\n"
          ]
        }
      ],
      "source": [
        "# ==== Cell 1: env & seed (deterministic) ====\n",
        "import os, json, math, random, re\n",
        "import numpy as np\n",
        "import torch\n",
        "\n",
        "SEED = 4012\n",
        "os.environ[\"PYTHONHASHSEED\"] = str(SEED)\n",
        "\n",
        "random.seed(SEED)\n",
        "np.random.seed(SEED)\n",
        "torch.manual_seed(SEED)\n",
        "torch.cuda.manual_seed_all(SEED)\n",
        "\n",
        "torch.backends.cudnn.deterministic = True\n",
        "torch.backends.cudnn.benchmark = False\n",
        "try:\n",
        "    torch.use_deterministic_algorithms(True, warn_only=True)\n",
        "except Exception:\n",
        "    pass\n",
        "\n",
        "DEVICE = torch.device('cuda' if torch.cuda.is_available() else 'cpu')\n",
        "print(\"DEVICE:\", DEVICE)\n",
        "\n",
        "def set_global_seed(seed:int):\n",
        "    os.environ[\"PYTHONHASHSEED\"] = str(seed)\n",
        "    random.seed(seed); np.random.seed(seed)\n",
        "    torch.manual_seed(seed); torch.cuda.manual_seed_all(seed)\n"
      ]
    },
    {
      "cell_type": "code",
      "execution_count": null,
      "metadata": {
        "colab": {
          "base_uri": "https://localhost:8080/"
        },
        "id": "rtQExWGsOfZb",
        "outputId": "446a7c74-49ab-4359-d0e3-39146f527baa"
      },
      "outputs": [
        {
          "output_type": "stream",
          "name": "stdout",
          "text": [
            "✔ Using files:\n",
            "  train: /content/train.json\n",
            "  valid: /content/validation.json\n",
            "  test : /content/test.json\n",
            "Counts: 23088 1304 2126\n",
            "Sample [train]: {'premise': 'str', 'hypothesis': 'str', 'label': 'str'}\n",
            "Sample [valid]: {'premise': 'str', 'hypothesis': 'str', 'label': 'str'}\n",
            "Sample [test]: {'premise': 'str', 'hypothesis': 'str', 'label': 'str'}\n"
          ]
        }
      ],
      "source": [
        "# ==== Cell 2: load data (robust JSON/JSONL/columnar JSON) ====\n",
        "import json, re\n",
        "from pathlib import Path\n",
        "\n",
        "def _columnar_to_list(obj):\n",
        "    keys = obj[\"premise\"].keys()\n",
        "    try:\n",
        "        order = sorted(keys, key=lambda k: int(k))\n",
        "    except Exception:\n",
        "        order = list(keys)\n",
        "    out = []\n",
        "    for k in order:\n",
        "        out.append({\n",
        "            \"premise\": obj[\"premise\"].get(k, \"\"),\n",
        "            \"hypothesis\": obj[\"hypothesis\"].get(k, \"\"),\n",
        "            \"label\": obj[\"label\"].get(k, None) if isinstance(obj.get(\"label\"), dict) else obj.get(\"label\")\n",
        "        })\n",
        "    return out\n",
        "\n",
        "def read_any(path: str):\n",
        "    with open(path, \"r\", encoding=\"utf-8\") as f:\n",
        "        txt = f.read().strip()\n",
        "    try:\n",
        "        obj = json.loads(txt)\n",
        "        if isinstance(obj, list):\n",
        "            return obj\n",
        "        if isinstance(obj, dict) and all(k in obj for k in (\"premise\",\"hypothesis\",\"label\")) \\\n",
        "           and all(isinstance(obj[k], dict) for k in (\"premise\",\"hypothesis\",\"label\")):\n",
        "            return _columnar_to_list(obj)\n",
        "        return [obj]\n",
        "    except json.JSONDecodeError:\n",
        "        pass\n",
        "    data = []\n",
        "    for line in txt.splitlines():\n",
        "        line = line.strip()\n",
        "        if not line: continue\n",
        "        data.append(json.loads(line))\n",
        "    return data\n",
        "\n",
        "def _find_first(base: Path, *names: str) -> Path:\n",
        "    for nm in names:\n",
        "        p = base / nm\n",
        "        if p.exists(): return p\n",
        "    for p in base.rglob(\"*\"):\n",
        "        if p.is_file() and p.name in names:\n",
        "            return p\n",
        "    raise FileNotFoundError(f\"Cannot find any of {names} under {base}\")\n",
        "\n",
        "def load_splits_from_colab(base_hint: str = \"/content\"):\n",
        "    base = Path(base_hint)\n",
        "    train_p = _find_first(base, \"train.json\", \"train.jsonl\")\n",
        "    valid_p = _find_first(base, \"validation.json\", \"val.json\", \"dev.json\",\n",
        "                          \"validation.jsonl\", \"val.jsonl\", \"dev.jsonl\")\n",
        "    test_p  = _find_first(base, \"test.json\", \"test.jsonl\")\n",
        "    train = read_any(str(train_p)); valid = read_any(str(valid_p)); test  = read_any(str(test_p))\n",
        "    print(\"✔ Using files:\"); print(\"  train:\", train_p); print(\"  valid:\", valid_p); print(\"  test :\", test_p)\n",
        "    print(\"Counts:\", len(train), len(valid), len(test))\n",
        "    for name, arr in [(\"train\", train), (\"valid\", valid), (\"test\", test)]:\n",
        "        ex = arr[0] if arr else {}\n",
        "        print(f\"Sample [{name}]:\", {k: type(ex.get(k)).__name__ for k in (\"premise\",\"hypothesis\",\"label\")})\n",
        "    return train, valid, test\n",
        "\n",
        "train_raw, valid_raw, test_raw = load_splits_from_colab(\"/content\")\n"
      ]
    },
    {
      "cell_type": "code",
      "execution_count": null,
      "metadata": {
        "colab": {
          "base_uri": "https://localhost:8080/"
        },
        "id": "v-ozw6wMOhLc",
        "outputId": "0e95c5ec-e9f7-4ae3-9faf-388be5cd91a9"
      },
      "outputs": [
        {
          "output_type": "stream",
          "name": "stdout",
          "text": [
            "vocab_size: 11372 sample: [('<PAD>', 0), ('<UNK>', 1), ('the', 2), ('.', 3), ('of', 4), (',', 5), ('a', 6), ('is', 7), ('and', 8), ('in', 9)]\n"
          ]
        }
      ],
      "source": [
        "# ==== Cell 3: tokenizer & vocab ====\n",
        "import re\n",
        "from collections import Counter\n",
        "\n",
        "TOKEN_RE = re.compile(r\"\\w+|[^\\w\\s]\", flags=re.UNICODE)\n",
        "\n",
        "def simple_tok(text):\n",
        "    if not isinstance(text, str):\n",
        "        text = \"\" if text is None else str(text)\n",
        "    return TOKEN_RE.findall(text.lower())\n",
        "\n",
        "PAD, UNK = \"<PAD>\", \"<UNK>\"\n",
        "\n",
        "def build_vocab(examples, min_freq=2, max_size=50000):\n",
        "    cnt = Counter()\n",
        "    for ex in examples:\n",
        "        cnt.update(simple_tok(ex.get(\"premise\", \"\")))\n",
        "        cnt.update(simple_tok(ex.get(\"hypothesis\", \"\")))\n",
        "    items = [(w, f) for w, f in cnt.items() if f >= min_freq]\n",
        "    items.sort(key=lambda x: (-x[1], x[0]))\n",
        "    items = items[:max_size-2]\n",
        "    stoi = {PAD: 0, UNK: 1}\n",
        "    for w, _ in items:\n",
        "        stoi[w] = len(stoi)\n",
        "    itos = {i: w for w, i in stoi.items()}\n",
        "    return stoi, itos\n",
        "\n",
        "stoi, itos = build_vocab(train_raw, min_freq=2, max_size=50000)\n",
        "vocab_size = len(stoi)\n",
        "print(\"vocab_size:\", vocab_size, \"sample:\", list(stoi.items())[:10])\n",
        "\n",
        "label2id = {\"neutral\": 0, \"entails\": 1}\n",
        "def encode_label(y):\n",
        "    if y is None: return -1\n",
        "    if isinstance(y, str): return label2id[y]\n",
        "    if isinstance(y, int): return y\n",
        "    return -1\n"
      ]
    },
    {
      "cell_type": "code",
      "execution_count": null,
      "metadata": {
        "id": "zMQ_WzjDOjLx"
      },
      "outputs": [],
      "source": [
        "# ==== Cell 4: optional GloVe ====\n",
        "import numpy as np\n",
        "\n",
        "def load_glove_txt(glove_path, dim=100):\n",
        "    vecs = {}\n",
        "    with open(glove_path, \"r\", encoding=\"utf-8\") as f:\n",
        "        for line in f:\n",
        "            parts = line.rstrip().split(\" \")\n",
        "            if len(parts) < dim + 1: continue\n",
        "            w = parts[0]\n",
        "            v = np.asarray(parts[1:], dtype=\"float32\")\n",
        "            if v.shape[0] == dim:\n",
        "                vecs[w] = v\n",
        "    return vecs\n",
        "\n",
        "def build_embedding_matrix(stoi, glove=None, dim=100):\n",
        "    emb = np.random.normal(0, 0.1, size=(len(stoi), dim)).astype(\"float32\")\n",
        "    emb[0] = 0.0\n",
        "    if glove is not None:\n",
        "        hit = 0\n",
        "        for w, i in stoi.items():\n",
        "            if w in glove:\n",
        "                emb[i] = glove[w]; hit += 1\n",
        "        print(f\"glove hit {hit}/{len(stoi)}\")\n",
        "    return emb\n",
        "\n",
        "USE_GLOVE = False\n",
        "EMB_DIM   = 100\n",
        "emb_matrix = None\n",
        "if USE_GLOVE:\n",
        "    glove = load_glove_txt(\"/content/glove.6B.100d.txt\", dim=EMB_DIM)\n",
        "    emb_matrix = build_embedding_matrix(stoi, glove, dim=EMB_DIM)\n"
      ]
    },
    {
      "cell_type": "code",
      "execution_count": null,
      "metadata": {
        "colab": {
          "base_uri": "https://localhost:8080/"
        },
        "id": "Pde9_A0cOlD1",
        "outputId": "17ac3dd4-bcdc-4e16-fa67-7e132d6d97f3"
      },
      "outputs": [
        {
          "output_type": "stream",
          "name": "stdout",
          "text": [
            "batches: 181 11 17\n"
          ]
        }
      ],
      "source": [
        "# ==== Cell 5: dataset & dataloader (deterministic) ====\n",
        "import torch\n",
        "from torch.utils.data import Dataset, DataLoader\n",
        "\n",
        "def encode_tokens(tokens, stoi):\n",
        "    return [stoi.get(t, stoi[UNK]) for t in tokens]\n",
        "\n",
        "class NLIPairs(Dataset):\n",
        "    def __init__(self, rows, stoi):\n",
        "        self.rows = rows\n",
        "        self.stoi = stoi\n",
        "    def __len__(self): return len(self.rows)\n",
        "    def __getitem__(self, idx):\n",
        "        ex = self.rows[idx]\n",
        "        p = encode_tokens(simple_tok(ex.get(\"premise\",\"\")), self.stoi)\n",
        "        h = encode_tokens(simple_tok(ex.get(\"hypothesis\",\"\")), self.stoi)\n",
        "        y = encode_label(ex.get(\"label\"))\n",
        "        return p, h, y\n",
        "\n",
        "def pad_to_len(ids, L, pad=0): return ids[:L] + [pad] * max(0, L - len(ids))\n",
        "\n",
        "MAX_P, MAX_H = 64, 32\n",
        "\n",
        "def collate_fn(batch):\n",
        "    Ps, Hs, Ys = [], [], []\n",
        "    for p, h, y in batch:\n",
        "        Ps.append(pad_to_len(p, MAX_P))\n",
        "        Hs.append(pad_to_len(h, MAX_H))\n",
        "        Ys.append(y if y is not None else -1)\n",
        "    Ps = torch.tensor(Ps, dtype=torch.long)\n",
        "    Hs = torch.tensor(Hs, dtype=torch.long)\n",
        "    Ys = torch.tensor(Ys, dtype=torch.long)\n",
        "    return Ps, Hs, Ys\n",
        "\n",
        "train_ds = NLIPairs(train_raw, stoi)\n",
        "valid_ds = NLIPairs(valid_raw, stoi)\n",
        "test_ds  = NLIPairs(test_raw,  stoi)\n",
        "\n",
        "BATCH = 128\n",
        "g = torch.Generator()\n",
        "g.manual_seed(SEED)\n",
        "\n",
        "train_loader = DataLoader(train_ds, batch_size=BATCH, shuffle=True,  collate_fn=collate_fn,\n",
        "                          num_workers=0, generator=g, drop_last=False)\n",
        "valid_loader = DataLoader(valid_ds, batch_size=BATCH, shuffle=False, collate_fn=collate_fn,\n",
        "                          num_workers=0, drop_last=False)\n",
        "test_loader  = DataLoader(test_ds,  batch_size=BATCH, shuffle=False, collate_fn=collate_fn,\n",
        "                          num_workers=0, drop_last=False)\n",
        "\n",
        "print(\"batches:\", len(train_loader), len(valid_loader), len(test_loader))\n"
      ]
    },
    {
      "cell_type": "markdown",
      "metadata": {
        "id": "1FA2ao2l8hOg"
      },
      "source": [
        "# 2. Model Implementation\n",
        "(You can add as many code blocks and text blocks as you need. However, YOU SHOULD NOT MODIFY the section title)"
      ]
    },
    {
      "cell_type": "code",
      "execution_count": null,
      "metadata": {
        "colab": {
          "base_uri": "https://localhost:8080/"
        },
        "id": "QIEqDDT78q39",
        "outputId": "e841c66c-7f05-415d-9851-d6d5ae3afd13"
      },
      "outputs": [
        {
          "output_type": "stream",
          "name": "stdout",
          "text": [
            "params: 2159922\n"
          ]
        }
      ],
      "source": [
        "# ==== Cell 6: Model A (Siamese BiLSTM with pooling) ====\n",
        "import torch.nn as nn\n",
        "import torch\n",
        "\n",
        "class SentenceEncoder(nn.Module):\n",
        "    def __init__(self, vocab_size, emb_dim, hid, emb_matrix=None, dropout=0.3, pool_mode='concat'):\n",
        "        super().__init__()\n",
        "        assert pool_mode in ('concat','max','mean','last')\n",
        "        self.pool_mode = pool_mode\n",
        "        self.emb = nn.Embedding(vocab_size, emb_dim, padding_idx=0)\n",
        "        if emb_matrix is not None:\n",
        "            self.emb.weight.data.copy_(torch.tensor(emb_matrix))\n",
        "        self.lstm = nn.LSTM(emb_dim, hid, batch_first=True, bidirectional=True)\n",
        "        self.drop = nn.Dropout(dropout)\n",
        "        self.out_dim = 6*hid if pool_mode=='concat' else 2*hid\n",
        "\n",
        "    def forward(self, x):\n",
        "        e = self.drop(self.emb(x))\n",
        "        o, (h_n, _) = self.lstm(e)\n",
        "        max_pool, _ = torch.max(o, dim=1)\n",
        "        mean_pool   = torch.mean(o, dim=1)\n",
        "        last = torch.cat([h_n[-2], h_n[-1]], dim=1)\n",
        "        if self.pool_mode == 'concat':\n",
        "            return torch.cat([max_pool, mean_pool, last], dim=1)\n",
        "        elif self.pool_mode == 'max':\n",
        "            return max_pool\n",
        "        elif self.pool_mode == 'mean':\n",
        "            return mean_pool\n",
        "        else:\n",
        "            return last\n",
        "\n",
        "class SiameseBiLSTM(nn.Module):\n",
        "    def __init__(self, vocab_size, emb_dim=100, hid=128, emb_matrix=None,\n",
        "                 dropout=0.3, num_classes=2, pool_mode='concat'):\n",
        "        super().__init__()\n",
        "        self.enc = SentenceEncoder(vocab_size, emb_dim, hid, emb_matrix, dropout, pool_mode)\n",
        "        rep_dim = self.enc.out_dim\n",
        "        in_dim = rep_dim*4\n",
        "        self.mlp = nn.Sequential(\n",
        "            nn.Linear(in_dim, 256),\n",
        "            nn.ReLU(),\n",
        "            nn.Dropout(dropout),\n",
        "            nn.Linear(256, num_classes)\n",
        "        )\n",
        "\n",
        "    def forward(self, P, H):\n",
        "        u = self.enc(P); v = self.enc(H)\n",
        "        diff = torch.abs(u - v); prod = u * v\n",
        "        x = torch.cat([u, v, diff, prod], dim=1)\n",
        "        return self.mlp(x)\n",
        "\n",
        "DROPOUT = 0.3\n",
        "HID     = 128\n",
        "POOL_MODE = 'concat'\n",
        "model = SiameseBiLSTM(vocab_size=vocab_size, emb_dim=EMB_DIM, hid=HID,\n",
        "                      emb_matrix=emb_matrix, dropout=DROPOUT, pool_mode=POOL_MODE).to(DEVICE)\n",
        "print(\"params:\", sum(p.numel() for p in model.parameters()))\n"
      ]
    },
    {
      "cell_type": "code",
      "execution_count": null,
      "metadata": {
        "colab": {
          "base_uri": "https://localhost:8080/"
        },
        "id": "hzHN-d1YOoKg",
        "outputId": "a292e5ea-983d-49df-e011-94504af0bf8a"
      },
      "outputs": [
        {
          "output_type": "stream",
          "name": "stdout",
          "text": [
            "RUN: A_v1_seed4012_len64x32 | class-weights: None | label_smoothing: 0.0\n"
          ]
        },
        {
          "output_type": "stream",
          "name": "stderr",
          "text": [
            "/usr/local/lib/python3.12/dist-packages/torch/autograd/graph.py:829: UserWarning: Deterministic behavior was enabled with either `torch.use_deterministic_algorithms(True)` or `at::Context::setDeterministicAlgorithms(true)`, but this operation is not deterministic because it uses CuBLAS and you have CUDA >= 10.2. To enable deterministic behavior in this case, you must set an environment variable before running your PyTorch application: CUBLAS_WORKSPACE_CONFIG=:4096:8 or CUBLAS_WORKSPACE_CONFIG=:16:8. For more information, go to https://docs.nvidia.com/cuda/cublas/index.html#results-reproducibility (Triggered internally at /pytorch/aten/src/ATen/Context.cpp:233.)\n",
            "  return Variable._execution_engine.run_backward(  # Calls into the C++ engine to run the backward pass\n"
          ]
        },
        {
          "output_type": "stream",
          "name": "stdout",
          "text": [
            "[Ep 01] train loss 0.5413 acc 0.7206 | valid loss 0.5226 acc 0.7370\n",
            "[Ep 02] train loss 0.4168 acc 0.8089 | valid loss 0.4884 acc 0.7615\n",
            "[Ep 03] train loss 0.3487 acc 0.8476 | valid loss 0.4399 acc 0.7791\n",
            "[Ep 04] train loss 0.3038 acc 0.8691 | valid loss 0.4966 acc 0.7630\n",
            "[Ep 05] train loss 0.2723 acc 0.8859 | valid loss 0.4968 acc 0.7807\n",
            "[Ep 06] train loss 0.2470 acc 0.8995 | valid loss 0.4699 acc 0.7845\n",
            "[Ep 07] train loss 0.2150 acc 0.9127 | valid loss 0.5213 acc 0.7745\n",
            "[Ep 08] train loss 0.1958 acc 0.9215 | valid loss 0.5763 acc 0.7730\n",
            "[Ep 09] train loss 0.1762 acc 0.9296 | valid loss 0.5939 acc 0.7822\n",
            "[Ep 10] train loss 0.1554 acc 0.9393 | valid loss 0.5444 acc 0.7899\n",
            "[Ep 11] train loss 0.1378 acc 0.9447 | valid loss 0.5444 acc 0.7876\n",
            "[Ep 12] train loss 0.1254 acc 0.9503 | valid loss 0.5933 acc 0.7853\n",
            "[Ep 13] train loss 0.1173 acc 0.9543 | valid loss 0.6590 acc 0.7776\n",
            "[Ep 14] train loss 0.1076 acc 0.9593 | valid loss 0.7012 acc 0.7676\n",
            "[Ep 15] train loss 0.0926 acc 0.9634 | valid loss 0.7389 acc 0.7569\n",
            "Early stopping.\n",
            "best valid acc: 0.7898773013448422\n",
            "Saved best checkpoint -> /content/modelA_best.pt\n"
          ]
        }
      ],
      "source": [
        "# ==== Cell 7: training utils (shared) ====\n",
        "import torch.nn.functional as F\n",
        "import torch\n",
        "\n",
        "RUN_ID = \"A_v1_seed4012_len64x32\"\n",
        "USE_CLASS_WEIGHTS = False\n",
        "LABEL_SMOOTH = 0.0\n",
        "\n",
        "def class_weights_from(dataset):\n",
        "    ys=[]\n",
        "    for i in range(len(dataset)):\n",
        "        _,_,y = dataset[i]\n",
        "        ys.append(int(y))\n",
        "    ys=np.array(ys)\n",
        "    cnt=np.bincount(ys, minlength=2)\n",
        "    w = cnt.sum()/(cnt + 1e-12)\n",
        "    return torch.tensor(w, dtype=torch.float32)\n",
        "\n",
        "CLASS_WEIGHTS = class_weights_from(train_ds).to(DEVICE) if USE_CLASS_WEIGHTS else None\n",
        "print(\"RUN:\", RUN_ID, \"| class-weights:\", (CLASS_WEIGHTS.cpu().numpy() if CLASS_WEIGHTS is not None else \"None\"),\n",
        "      \"| label_smoothing:\", LABEL_SMOOTH)\n",
        "\n",
        "def accuracy(logits, y):\n",
        "    return (logits.argmax(1)==y).float().mean().item()\n",
        "\n",
        "def run_epoch(model, loader, opt=None, class_weights=None, label_smooth=0.0):\n",
        "    is_train = opt is not None\n",
        "    model.train(is_train)\n",
        "    total_loss=total_acc=total_n=0.0\n",
        "    for P,H,Y in loader:\n",
        "        P,H,Y = P.to(DEVICE), H.to(DEVICE), Y.to(DEVICE)\n",
        "        logits = model(P,H)\n",
        "        loss = F.cross_entropy(logits, Y, weight=class_weights, label_smoothing=label_smooth)\n",
        "        if is_train:\n",
        "            opt.zero_grad(set_to_none=True)\n",
        "            loss.backward()\n",
        "            torch.nn.utils.clip_grad_norm_(model.parameters(), 1.0)\n",
        "            opt.step()\n",
        "        b = Y.size(0)\n",
        "        total_loss += loss.item()*b\n",
        "        total_acc  += accuracy(logits,Y)*b\n",
        "        total_n    += b\n",
        "    return total_loss/total_n, total_acc/total_n\n",
        "\n",
        "def fit(model, train_loader, valid_loader, epochs=30, lr=1e-3, weight_decay=1e-5, patience=5,\n",
        "        class_weights=None, label_smooth=0.0):\n",
        "    opt = torch.optim.Adam(model.parameters(), lr=lr, weight_decay=weight_decay)\n",
        "    best_val=-1.0; best_state=None; bad=0; hist=[]\n",
        "    for ep in range(1,epochs+1):\n",
        "        tr_loss,tr_acc = run_epoch(model, train_loader, opt, class_weights, label_smooth)\n",
        "        va_loss,va_acc = run_epoch(model, valid_loader, None, class_weights, label_smooth)\n",
        "        hist.append((ep,tr_loss,tr_acc,va_loss,va_acc))\n",
        "        print(f\"[Ep {ep:02d}] train loss {tr_loss:.4f} acc {tr_acc:.4f} | valid loss {va_loss:.4f} acc {va_acc:.4f}\")\n",
        "        if va_acc>best_val:\n",
        "            best_val=va_acc; best_state={k:v.clone() for k,v in model.state_dict().items()}; bad=0\n",
        "        else:\n",
        "            bad+=1\n",
        "            if bad>=patience:\n",
        "                print(\"Early stopping.\"); break\n",
        "    if best_state is not None: model.load_state_dict(best_state)\n",
        "    return hist,best_val,best_state\n",
        "\n",
        "def evaluate_with_preds(model, loader):\n",
        "    model.eval()\n",
        "    y_true, y_pred = [], []\n",
        "    with torch.no_grad():\n",
        "        for P, H, Y in loader:\n",
        "            P, H, Y = P.to(DEVICE), H.to(DEVICE), Y.to(DEVICE)\n",
        "            logits = model(P, H)\n",
        "            pred = logits.argmax(1)\n",
        "            y_true.append(Y.cpu().numpy())\n",
        "            y_pred.append(pred.cpu().numpy())\n",
        "    y_true = np.concatenate(y_true); y_pred = np.concatenate(y_pred)\n",
        "    acc = (y_true == y_pred).mean()\n",
        "    return acc, y_true, y_pred\n",
        "\n",
        "EPOCHS=30; LR=1e-3; WEIGHT_DECAY=1e-5; PATIENCE=5\n",
        "hist,best_val,best_state = fit(model, train_loader, valid_loader, EPOCHS, LR, WEIGHT_DECAY, PATIENCE,\n",
        "                               class_weights=CLASS_WEIGHTS, label_smooth=LABEL_SMOOTH)\n",
        "print(\"best valid acc:\", best_val)\n",
        "\n",
        "ckpt_path=\"/content/modelA_best.pt\"\n",
        "torch.save(model.state_dict(), ckpt_path)\n",
        "print(f\"Saved best checkpoint -> {ckpt_path}\")\n"
      ]
    },
    {
      "cell_type": "code",
      "execution_count": null,
      "metadata": {
        "id": "YOKGu8qhOrzL"
      },
      "outputs": [],
      "source": [
        "# ==== Cell 9: Model C (ESIM-style Cross-Attention) ====\n",
        "import math, torch.nn as nn, torch\n",
        "\n",
        "def masked_softmax(scores, mask, dim=-1):\n",
        "    scores = scores.masked_fill(~mask, float('-inf'))\n",
        "    return torch.softmax(scores, dim=dim)\n",
        "\n",
        "class ESIMClassifier(nn.Module):\n",
        "    def __init__(self, vocab_size, emb_dim=100, hid=128, emb_matrix=None,\n",
        "                 dropout=0.3, num_classes=2, attn_type='dot', use_cross_attn=True,\n",
        "                 attn_dim=None, proj_out_dim=None, use_layernorm=False):\n",
        "        super().__init__()\n",
        "        self.hid = hid\n",
        "        self.use_cross_attn = use_cross_attn\n",
        "        self.attn_type = attn_type\n",
        "\n",
        "        self.enc_out = 2*hid\n",
        "        self.align_cat = 4*self.enc_out\n",
        "        self.proj_out = proj_out_dim or (2*hid)\n",
        "        self.pool_feat = 4*self.enc_out\n",
        "\n",
        "        self.emb = nn.Embedding(vocab_size, emb_dim, padding_idx=0)\n",
        "        if emb_matrix is not None:\n",
        "            self.emb.weight.data.copy_(torch.tensor(emb_matrix))\n",
        "        self.enc = nn.LSTM(emb_dim, hid, batch_first=True, bidirectional=True)\n",
        "        self.drop = nn.Dropout(dropout)\n",
        "\n",
        "        if attn_type == 'add':\n",
        "            A = attn_dim or hid\n",
        "            self.Wq = nn.Linear(self.enc_out, A, bias=False)\n",
        "            self.Wk = nn.Linear(self.enc_out, A, bias=False)\n",
        "            self.v  = nn.Linear(A, 1, bias=False)\n",
        "\n",
        "        self.proj = nn.Sequential(nn.Linear(self.align_cat, self.proj_out),\n",
        "                                  nn.ReLU(), nn.Dropout(dropout))\n",
        "        self.ln = nn.LayerNorm(self.proj_out) if use_layernorm else nn.Identity()\n",
        "        self.comp = nn.LSTM(self.proj_out, hid, batch_first=True, bidirectional=True)\n",
        "\n",
        "        self.mlp = nn.Sequential(nn.Linear(self.pool_feat, 256),\n",
        "                                 nn.ReLU(), nn.Dropout(dropout),\n",
        "                                 nn.Linear(256, num_classes))\n",
        "\n",
        "    def _encode(self, x):\n",
        "        e = self.drop(self.emb(x))\n",
        "        o, _ = self.enc(e)\n",
        "        return o\n",
        "\n",
        "    def _attn_scores(self, Q, K):\n",
        "        if self.attn_type == 'dot':\n",
        "            scale = math.sqrt(Q.size(-1))\n",
        "            return torch.bmm(Q, K.transpose(1,2)) / scale\n",
        "        elif self.attn_type == 'add':\n",
        "            Qp = self.Wq(Q).unsqueeze(2)\n",
        "            Kp = self.Wk(K).unsqueeze(1)\n",
        "            return self.v(torch.tanh(Qp + Kp)).squeeze(-1)\n",
        "        else:\n",
        "            raise ValueError(self.attn_type)\n",
        "\n",
        "    def forward(self, P, H, return_attn=False):\n",
        "        mask_p = (P!=0); mask_h=(H!=0)\n",
        "        P_enc = self._encode(P); H_enc = self._encode(H)\n",
        "\n",
        "        if self.use_cross_attn:\n",
        "            S = self._attn_scores(P_enc, H_enc)\n",
        "            A = masked_softmax(S, mask_h.unsqueeze(1), dim=2)\n",
        "            P_att = torch.bmm(A, H_enc)\n",
        "            S_T = S.transpose(1,2)\n",
        "            B = masked_softmax(S_T, mask_p.unsqueeze(1), dim=2)\n",
        "            H_att = torch.bmm(B, P_enc)\n",
        "        else:\n",
        "            P_att = torch.zeros_like(P_enc); H_att = torch.zeros_like(H_enc); A=None\n",
        "\n",
        "        P_cat = torch.cat([P_enc, P_att, P_enc-P_att, P_enc*P_att], dim=-1)\n",
        "        H_cat = torch.cat([H_enc, H_att, H_enc-H_att, H_enc*H_att], dim=-1)\n",
        "\n",
        "        P_proj = self.ln(self.proj(P_cat))\n",
        "        H_proj = self.ln(self.proj(H_cat))\n",
        "        P_comp, _ = self.comp(P_proj)\n",
        "        H_comp, _ = self.comp(H_proj)\n",
        "\n",
        "        def masked_pool(x, mask):\n",
        "            mask = mask.unsqueeze(-1)\n",
        "            x = x.masked_fill(~mask, 0.0)\n",
        "            lengths = mask.sum(dim=1).clamp(min=1)\n",
        "            mean = x.sum(dim=1)/lengths\n",
        "            x_masked = x.masked_fill(~mask, float('-inf'))\n",
        "            maxv,_ = x_masked.max(dim=1)\n",
        "            maxv = torch.where(torch.isfinite(maxv), maxv, torch.zeros_like(maxv))\n",
        "            return mean, maxv\n",
        "\n",
        "        p_mean, p_max = masked_pool(P_comp, mask_p)\n",
        "        h_mean, h_max = masked_pool(H_comp, mask_h)\n",
        "        feat = torch.cat([p_mean, p_max, h_mean, h_max], dim=-1)\n",
        "        logits = self.mlp(feat)\n",
        "        return (logits, A) if return_attn else logits\n"
      ]
    },
    {
      "cell_type": "code",
      "execution_count": null,
      "metadata": {
        "id": "mT8FsoIyOtog",
        "colab": {
          "base_uri": "https://localhost:8080/"
        },
        "outputId": "47da790c-2e69-4bc6-a723-f1a6bf59bd94"
      },
      "outputs": [
        {
          "output_type": "stream",
          "name": "stdout",
          "text": [
            "Model C params: 2293298\n"
          ]
        },
        {
          "output_type": "stream",
          "name": "stderr",
          "text": [
            "/tmp/ipython-input-1567827658.py:51: UserWarning: Deterministic behavior was enabled with either `torch.use_deterministic_algorithms(True)` or `at::Context::setDeterministicAlgorithms(true)`, but this operation is not deterministic because it uses CuBLAS and you have CUDA >= 10.2. To enable deterministic behavior in this case, you must set an environment variable before running your PyTorch application: CUBLAS_WORKSPACE_CONFIG=:4096:8 or CUBLAS_WORKSPACE_CONFIG=:16:8. For more information, go to https://docs.nvidia.com/cuda/cublas/index.html#results-reproducibility (Triggered internally at /pytorch/aten/src/ATen/Context.cpp:233.)\n",
            "  return torch.bmm(Q, K.transpose(1,2)) / scale\n",
            "/tmp/ipython-input-1567827658.py:66: UserWarning: Deterministic behavior was enabled with either `torch.use_deterministic_algorithms(True)` or `at::Context::setDeterministicAlgorithms(true)`, but this operation is not deterministic because it uses CuBLAS and you have CUDA >= 10.2. To enable deterministic behavior in this case, you must set an environment variable before running your PyTorch application: CUBLAS_WORKSPACE_CONFIG=:4096:8 or CUBLAS_WORKSPACE_CONFIG=:16:8. For more information, go to https://docs.nvidia.com/cuda/cublas/index.html#results-reproducibility (Triggered internally at /pytorch/aten/src/ATen/Context.cpp:233.)\n",
            "  P_att = torch.bmm(A, H_enc)\n",
            "/tmp/ipython-input-1567827658.py:69: UserWarning: Deterministic behavior was enabled with either `torch.use_deterministic_algorithms(True)` or `at::Context::setDeterministicAlgorithms(true)`, but this operation is not deterministic because it uses CuBLAS and you have CUDA >= 10.2. To enable deterministic behavior in this case, you must set an environment variable before running your PyTorch application: CUBLAS_WORKSPACE_CONFIG=:4096:8 or CUBLAS_WORKSPACE_CONFIG=:16:8. For more information, go to https://docs.nvidia.com/cuda/cublas/index.html#results-reproducibility (Triggered internally at /pytorch/aten/src/ATen/Context.cpp:233.)\n",
            "  H_att = torch.bmm(B, P_enc)\n"
          ]
        },
        {
          "output_type": "stream",
          "name": "stdout",
          "text": [
            "[Ep 01] train loss 0.5528 acc 0.7113 | valid loss 0.6176 acc 0.6940\n",
            "[Ep 02] train loss 0.4223 acc 0.8073 | valid loss 0.7591 acc 0.6702\n",
            "[Ep 03] train loss 0.3624 acc 0.8393 | valid loss 0.5522 acc 0.7354\n",
            "[Ep 04] train loss 0.3167 acc 0.8653 | valid loss 0.6268 acc 0.7094\n",
            "[Ep 05] train loss 0.2835 acc 0.8820 | valid loss 0.5952 acc 0.7423\n",
            "[Ep 06] train loss 0.2576 acc 0.8939 | valid loss 0.6341 acc 0.7339\n",
            "[Ep 07] train loss 0.2272 acc 0.9066 | valid loss 0.5908 acc 0.7439\n",
            "[Ep 08] train loss 0.2053 acc 0.9161 | valid loss 0.5974 acc 0.7546\n",
            "[Ep 09] train loss 0.1834 acc 0.9271 | valid loss 0.5798 acc 0.7607\n",
            "[Ep 10] train loss 0.1609 acc 0.9356 | valid loss 0.6968 acc 0.7584\n",
            "[Ep 11] train loss 0.1454 acc 0.9423 | valid loss 0.6627 acc 0.7584\n",
            "[Ep 12] train loss 0.1270 acc 0.9511 | valid loss 0.7533 acc 0.7538\n",
            "[Ep 13] train loss 0.1106 acc 0.9552 | valid loss 0.8375 acc 0.7500\n",
            "[Ep 14] train loss 0.0974 acc 0.9620 | valid loss 0.7921 acc 0.7462\n",
            "Early stopping.\n",
            "best valid acc (C): 0.7607361963190185\n",
            "Saved Model C checkpoint -> /content/modelC_best.pt\n"
          ]
        }
      ],
      "source": [
        "# ==== Cell 10: Train Model C (main run) ====\n",
        "HID_C = HID\n",
        "DROPOUT_C = 0.3\n",
        "ATTN_TYPE_C = 'dot'\n",
        "ATTN_DIM_C  = HID_C\n",
        "PROJ_OUT_DIM_C = 2*HID_C\n",
        "USE_LN_C = False\n",
        "\n",
        "modelC = ESIMClassifier(\n",
        "    vocab_size=vocab_size, emb_dim=EMB_DIM, hid=HID_C,\n",
        "    emb_matrix=emb_matrix, dropout=DROPOUT_C, num_classes=2,\n",
        "    attn_type=ATTN_TYPE_C, use_cross_attn=True,\n",
        "    attn_dim=ATTN_DIM_C, proj_out_dim=PROJ_OUT_DIM_C, use_layernorm=USE_LN_C\n",
        ").to(DEVICE)\n",
        "\n",
        "print(\"Model C params:\", sum(p.numel() for p in modelC.parameters()))\n",
        "\n",
        "histC, best_valC, best_stateC = fit(\n",
        "    modelC, train_loader, valid_loader,\n",
        "    epochs=EPOCHS, lr=LR, weight_decay=WEIGHT_DECAY, patience=PATIENCE,\n",
        "    class_weights=None, label_smooth=0.0\n",
        ")\n",
        "print(\"best valid acc (C):\", best_valC)\n",
        "\n",
        "ckpt_c = \"/content/modelC_best.pt\"\n",
        "torch.save(modelC.state_dict(), ckpt_c)\n",
        "print(f\"Saved Model C checkpoint -> {ckpt_c}\")\n"
      ]
    },
    {
      "cell_type": "code",
      "execution_count": null,
      "metadata": {
        "id": "P3idXZrQOvCA"
      },
      "outputs": [],
      "source": [
        "# ==== Cell 17: Model B (BiLSTM -> similarity maps -> 2D-CNN) ====\n",
        "import torch.nn.functional as F\n",
        "import torch.nn as nn\n",
        "import torch\n",
        "\n",
        "class BiLSTM2DCNN(nn.Module):\n",
        "    def __init__(self, vocab_size, emb_dim=100, hid=128, pad_idx=0,\n",
        "                 use_cos=True, use_dot=False, use_bilinear=False,\n",
        "                 num_filters=32, kernel_size=3, pool_out=16,\n",
        "                 dropout=0.3, standardize=True):\n",
        "        super().__init__()\n",
        "        self.pad_idx = pad_idx\n",
        "        self.use_cos, self.use_dot, self.use_bilinear = use_cos, use_dot, use_bilinear\n",
        "        self.standardize = standardize\n",
        "\n",
        "        self.emb = nn.Embedding(vocab_size, emb_dim, padding_idx=pad_idx)\n",
        "        self.emb_drop = nn.Dropout(0.1)\n",
        "        self.enc = nn.LSTM(emb_dim, hid, batch_first=True, bidirectional=True)\n",
        "\n",
        "        if use_bilinear:\n",
        "            self.Wa = nn.Linear(2*hid, 2*hid, bias=False)\n",
        "\n",
        "        in_ch = (1 if use_cos else 0) + (1 if use_dot else 0) + (1 if use_bilinear else 0)\n",
        "        assert in_ch > 0, \"At least one similarity channel must be enabled.\"\n",
        "\n",
        "        self.conv1 = nn.Conv2d(in_ch, num_filters, kernel_size, padding=kernel_size//2)\n",
        "        self.bn1   = nn.BatchNorm2d(num_filters)\n",
        "        self.conv2 = nn.Conv2d(num_filters, num_filters, kernel_size, padding=kernel_size//2)\n",
        "        self.bn2   = nn.BatchNorm2d(num_filters)\n",
        "        self.act   = nn.LeakyReLU(0.01, inplace=True)\n",
        "        self.pool  = nn.AdaptiveMaxPool2d((pool_out, pool_out))\n",
        "\n",
        "        fc_in = num_filters * pool_out * pool_out\n",
        "        self.mlp = nn.Sequential(\n",
        "            nn.Linear(fc_in, 256),\n",
        "            nn.ReLU(),\n",
        "            nn.Dropout(dropout),\n",
        "            nn.Linear(256, 2)\n",
        "        )\n",
        "\n",
        "    def _encode(self, x):\n",
        "        e = self.emb_drop(self.emb(x))\n",
        "        o, _ = self.enc(e)\n",
        "        on = F.normalize(o, p=2, dim=-1)\n",
        "        return on, o\n",
        "\n",
        "    def _build_maps(self, Pn, Hn, Pr, Hr):\n",
        "        maps = []\n",
        "        if self.use_cos:\n",
        "            maps.append(torch.einsum(\"bid,bjd->bij\", Pn, Hn).unsqueeze(1))\n",
        "        if self.use_dot:\n",
        "            scale = (Pr.size(-1) ** 0.5)\n",
        "            maps.append(torch.einsum(\"bid,bjd->bij\", Pr, Hr).unsqueeze(1) / scale)\n",
        "        if self.use_bilinear:\n",
        "            Pw = self.Wa(Pr)\n",
        "            maps.append(torch.einsum(\"bid,bjd->bij\", Pw, Hr).unsqueeze(1))\n",
        "        return torch.cat(maps, dim=1)\n",
        "\n",
        "    def _pad_mask2d(self, P, H):\n",
        "        pm = (P != self.pad_idx).float()\n",
        "        hm = (H != self.pad_idx).float()\n",
        "        return torch.bmm(pm.unsqueeze(2), hm.unsqueeze(1))  # (B, Lp, Lh)\n",
        "\n",
        "    def forward(self, P, H, return_maps=False):\n",
        "        Pn, Pr = self._encode(P)\n",
        "        Hn, Hr = self._encode(H)\n",
        "        S = self._build_maps(Pn, Hn, Pr, Hr)\n",
        "\n",
        "        mask2d = self._pad_mask2d(P, H).unsqueeze(1)\n",
        "        S = S * mask2d\n",
        "\n",
        "        if self.standardize:\n",
        "            valid = mask2d.sum(dim=(2,3), keepdim=True).clamp_min(1.0)\n",
        "            mean  = (S * mask2d).sum(dim=(2,3), keepdim=True) / valid\n",
        "            var   = ((S - mean) * mask2d) ** 2\n",
        "            std   = (var.sum(dim=(2,3), keepdim=True) / valid).sqrt().clamp_min(1e-6)\n",
        "            S = (S - mean) / std\n",
        "\n",
        "        x = self.act(self.bn1(self.conv1(S)))\n",
        "        x = self.act(self.bn2(self.conv2(x)))\n",
        "        x = self.pool(x).flatten(1)\n",
        "        logits = self.mlp(x)\n",
        "        return (logits, S) if return_maps else logits\n"
      ]
    },
    {
      "cell_type": "code",
      "execution_count": null,
      "metadata": {
        "id": "zrq5NhifOwiw",
        "colab": {
          "base_uri": "https://localhost:8080/"
        },
        "outputId": "63b1aa0d-766d-461e-9252-3ed9f186a7e6"
      },
      "outputs": [
        {
          "output_type": "stream",
          "name": "stdout",
          "text": [
            "Model B params: 3480338\n"
          ]
        },
        {
          "output_type": "stream",
          "name": "stderr",
          "text": [
            "/usr/local/lib/python3.12/dist-packages/torch/functional.py:422: UserWarning: Deterministic behavior was enabled with either `torch.use_deterministic_algorithms(True)` or `at::Context::setDeterministicAlgorithms(true)`, but this operation is not deterministic because it uses CuBLAS and you have CUDA >= 10.2. To enable deterministic behavior in this case, you must set an environment variable before running your PyTorch application: CUBLAS_WORKSPACE_CONFIG=:4096:8 or CUBLAS_WORKSPACE_CONFIG=:16:8. For more information, go to https://docs.nvidia.com/cuda/cublas/index.html#results-reproducibility (Triggered internally at /pytorch/aten/src/ATen/Context.cpp:233.)\n",
            "  return _VF.einsum(equation, operands)  # type: ignore[attr-defined]\n",
            "/tmp/ipython-input-3648102403.py:62: UserWarning: Deterministic behavior was enabled with either `torch.use_deterministic_algorithms(True)` or `at::Context::setDeterministicAlgorithms(true)`, but this operation is not deterministic because it uses CuBLAS and you have CUDA >= 10.2. To enable deterministic behavior in this case, you must set an environment variable before running your PyTorch application: CUBLAS_WORKSPACE_CONFIG=:4096:8 or CUBLAS_WORKSPACE_CONFIG=:16:8. For more information, go to https://docs.nvidia.com/cuda/cublas/index.html#results-reproducibility (Triggered internally at /pytorch/aten/src/ATen/Context.cpp:233.)\n",
            "  return torch.bmm(pm.unsqueeze(2), hm.unsqueeze(1))  # (B, Lp, Lh)\n",
            "/usr/local/lib/python3.12/dist-packages/torch/autograd/graph.py:829: UserWarning: adaptive_max_pool2d_backward_cuda does not have a deterministic implementation, but you set 'torch.use_deterministic_algorithms(True, warn_only=True)'. You can file an issue at https://github.com/pytorch/pytorch/issues to help us prioritize adding deterministic support for this operation. (Triggered internally at /pytorch/aten/src/ATen/Context.cpp:93.)\n",
            "  return Variable._execution_engine.run_backward(  # Calls into the C++ engine to run the backward pass\n"
          ]
        },
        {
          "output_type": "stream",
          "name": "stdout",
          "text": [
            "[Ep 01] train loss 0.6627 acc 0.7025 | valid loss 0.6330 acc 0.6848\n",
            "[Ep 02] train loss 0.4107 acc 0.8198 | valid loss 0.6554 acc 0.6848\n",
            "[Ep 03] train loss 0.3281 acc 0.8645 | valid loss 0.6206 acc 0.7086\n",
            "[Ep 04] train loss 0.2663 acc 0.8936 | valid loss 0.7201 acc 0.7086\n",
            "[Ep 05] train loss 0.2128 acc 0.9192 | valid loss 0.9265 acc 0.7078\n",
            "[Ep 06] train loss 0.1737 acc 0.9343 | valid loss 0.9887 acc 0.7055\n",
            "[Ep 07] train loss 0.1427 acc 0.9471 | valid loss 0.8861 acc 0.7270\n",
            "[Ep 08] train loss 0.1083 acc 0.9600 | valid loss 1.1328 acc 0.7109\n",
            "[Ep 09] train loss 0.0799 acc 0.9710 | valid loss 1.5624 acc 0.7086\n",
            "[Ep 10] train loss 0.0713 acc 0.9749 | valid loss 1.8460 acc 0.6971\n",
            "[Ep 11] train loss 0.0599 acc 0.9795 | valid loss 1.7233 acc 0.7048\n",
            "[Ep 12] train loss 0.0530 acc 0.9818 | valid loss 1.6725 acc 0.6910\n",
            "Early stopping.\n",
            "best valid acc (B): 0.7269938653963475\n",
            "Saved Model B checkpoint -> /content/modelB_best.pt\n"
          ]
        }
      ],
      "source": [
        "# ==== Cell 18: Train Model B (main) ====\n",
        "DROPOUT_B   = 0.3\n",
        "HID_B       = HID\n",
        "USE_COS_B   = True\n",
        "USE_DOT_B   = False   # set True if you want cos+dot as main\n",
        "USE_BIL_B   = False\n",
        "NFILTER_B   = 32\n",
        "KSIZE_B     = 3       # set 5 if you want kernel5 as main\n",
        "POOL_OUT_B  = 16\n",
        "\n",
        "modelB = BiLSTM2DCNN(\n",
        "    vocab_size=len(stoi),\n",
        "    emb_dim=EMB_DIM,\n",
        "    hid=HID_B,\n",
        "    pad_idx=stoi[PAD],\n",
        "    use_cos=USE_COS_B, use_dot=USE_DOT_B, use_bilinear=USE_BIL_B,\n",
        "    num_filters=NFILTER_B, kernel_size=KSIZE_B, pool_out=POOL_OUT_B,\n",
        "    dropout=DROPOUT_B, standardize=True\n",
        ").to(DEVICE)\n",
        "\n",
        "print(\"Model B params:\", sum(p.numel() for p in modelB.parameters()))\n",
        "\n",
        "histB, best_valB, best_stateB = fit(\n",
        "    modelB, train_loader, valid_loader,\n",
        "    epochs=EPOCHS, lr=LR, weight_decay=WEIGHT_DECAY, patience=PATIENCE,\n",
        "    class_weights=None, label_smooth=0.0\n",
        ")\n",
        "print(\"best valid acc (B):\", best_valB)\n",
        "\n",
        "ckpt_b = \"/content/modelB_best.pt\"\n",
        "torch.save(modelB.state_dict(), ckpt_b)\n",
        "print(f\"Saved Model B checkpoint -> {ckpt_b}\")\n"
      ]
    },
    {
      "cell_type": "markdown",
      "metadata": {
        "id": "EzGuzHPE87Ya"
      },
      "source": [
        "# 3.Testing and Evaluation\n",
        "(You can add as many code blocks and text blocks as you need. However, YOU SHOULD NOT MODIFY the section title)"
      ]
    },
    {
      "cell_type": "code",
      "execution_count": null,
      "metadata": {
        "id": "6ZVeNYIH9IaL",
        "colab": {
          "base_uri": "https://localhost:8080/"
        },
        "outputId": "5e95c8c6-33ec-4f8d-9c79-95596c064e1a"
      },
      "outputs": [
        {
          "output_type": "stream",
          "name": "stdout",
          "text": [
            "TEST ACC: 0.7817\n",
            "Confusion matrix:\n",
            " [[1083  201]\n",
            " [ 263  579]]\n",
            "Macro-P/R/F1: 0.7735 0.7656 0.7688\n"
          ]
        }
      ],
      "source": [
        "# ==== Cell 8: Test Model A + CM + Macro P/R/F1 ====\n",
        "import numpy as np\n",
        "\n",
        "test_acc, y_true, y_pred = evaluate_with_preds(model, test_loader)\n",
        "print(\"TEST ACC:\", round(test_acc, 4))\n",
        "\n",
        "cm = np.zeros((2, 2), dtype=int)\n",
        "for t, p in zip(y_true, y_pred): cm[t, p] += 1\n",
        "print(\"Confusion matrix:\\n\", cm)\n",
        "\n",
        "prec, rec, f1 = [], [], []\n",
        "for c in [0, 1]:\n",
        "    tp = cm[c, c]; fp = cm[:, c].sum() - tp; fn = cm[c, :].sum() - tp\n",
        "    p = tp / (tp + fp + 1e-12); r = tp / (tp + fn + 1e-12)\n",
        "    prec.append(p); rec.append(r); f1.append(2 * p * r / (p + r + 1e-12))\n",
        "print(\"Macro-P/R/F1:\", round(np.mean(prec), 4), round(np.mean(rec), 4), round(np.mean(f1), 4))\n"
      ]
    },
    {
      "cell_type": "code",
      "execution_count": null,
      "metadata": {
        "id": "3FMzZrHkOzS_",
        "colab": {
          "base_uri": "https://localhost:8080/"
        },
        "outputId": "42ecd5b4-d535-42bf-e738-d99819d3d9d4"
      },
      "outputs": [
        {
          "output_type": "stream",
          "name": "stdout",
          "text": [
            "TEST ACC (Model C): 0.7563\n",
            "Confusion matrix (C):\n",
            " [[1140  144]\n",
            " [ 374  468]]\n",
            "Macro-P/R/F1 (C): 0.7588 0.7218 0.7293\n"
          ]
        },
        {
          "output_type": "stream",
          "name": "stderr",
          "text": [
            "/tmp/ipython-input-1567827658.py:51: UserWarning: Deterministic behavior was enabled with either `torch.use_deterministic_algorithms(True)` or `at::Context::setDeterministicAlgorithms(true)`, but this operation is not deterministic because it uses CuBLAS and you have CUDA >= 10.2. To enable deterministic behavior in this case, you must set an environment variable before running your PyTorch application: CUBLAS_WORKSPACE_CONFIG=:4096:8 or CUBLAS_WORKSPACE_CONFIG=:16:8. For more information, go to https://docs.nvidia.com/cuda/cublas/index.html#results-reproducibility (Triggered internally at /pytorch/aten/src/ATen/Context.cpp:233.)\n",
            "  return torch.bmm(Q, K.transpose(1,2)) / scale\n",
            "/tmp/ipython-input-1567827658.py:66: UserWarning: Deterministic behavior was enabled with either `torch.use_deterministic_algorithms(True)` or `at::Context::setDeterministicAlgorithms(true)`, but this operation is not deterministic because it uses CuBLAS and you have CUDA >= 10.2. To enable deterministic behavior in this case, you must set an environment variable before running your PyTorch application: CUBLAS_WORKSPACE_CONFIG=:4096:8 or CUBLAS_WORKSPACE_CONFIG=:16:8. For more information, go to https://docs.nvidia.com/cuda/cublas/index.html#results-reproducibility (Triggered internally at /pytorch/aten/src/ATen/Context.cpp:233.)\n",
            "  P_att = torch.bmm(A, H_enc)\n",
            "/tmp/ipython-input-1567827658.py:69: UserWarning: Deterministic behavior was enabled with either `torch.use_deterministic_algorithms(True)` or `at::Context::setDeterministicAlgorithms(true)`, but this operation is not deterministic because it uses CuBLAS and you have CUDA >= 10.2. To enable deterministic behavior in this case, you must set an environment variable before running your PyTorch application: CUBLAS_WORKSPACE_CONFIG=:4096:8 or CUBLAS_WORKSPACE_CONFIG=:16:8. For more information, go to https://docs.nvidia.com/cuda/cublas/index.html#results-reproducibility (Triggered internally at /pytorch/aten/src/ATen/Context.cpp:233.)\n",
            "  H_att = torch.bmm(B, P_enc)\n"
          ]
        }
      ],
      "source": [
        "# ==== Cell 11: Test Model C + CM + Macro P/R/F1 ====\n",
        "accC, y_trueC, y_predC = evaluate_with_preds(modelC, test_loader)\n",
        "print(\"TEST ACC (Model C):\", round(accC, 4))\n",
        "\n",
        "cmC = np.zeros((2,2), dtype=int)\n",
        "for t,p in zip(y_trueC, y_predC): cmC[t,p]+=1\n",
        "print(\"Confusion matrix (C):\\n\", cmC)\n",
        "\n",
        "prec, rec, f1 = [], [], []\n",
        "for c in [0,1]:\n",
        "    tp = cmC[c,c]; fp = cmC[:,c].sum()-tp; fn = cmC[c,:].sum()-tp\n",
        "    p = tp/(tp+fp+1e-12); r = tp/(tp+fn+1e-12)\n",
        "    prec.append(p); rec.append(r); f1.append(2*p*r/(p+r+1e-12))\n",
        "print(\"Macro-P/R/F1 (C):\", round(np.mean(prec),4), round(np.mean(rec),4), round(np.mean(f1),4))\n"
      ]
    },
    {
      "cell_type": "code",
      "execution_count": null,
      "metadata": {
        "id": "NevPc4qZO0oV",
        "colab": {
          "base_uri": "https://localhost:8080/",
          "height": 1000
        },
        "outputId": "99906fd0-c507-4f32-e004-17b0afc7f33d"
      },
      "outputs": [
        {
          "output_type": "stream",
          "name": "stderr",
          "text": [
            "/tmp/ipython-input-1567827658.py:51: UserWarning: Deterministic behavior was enabled with either `torch.use_deterministic_algorithms(True)` or `at::Context::setDeterministicAlgorithms(true)`, but this operation is not deterministic because it uses CuBLAS and you have CUDA >= 10.2. To enable deterministic behavior in this case, you must set an environment variable before running your PyTorch application: CUBLAS_WORKSPACE_CONFIG=:4096:8 or CUBLAS_WORKSPACE_CONFIG=:16:8. For more information, go to https://docs.nvidia.com/cuda/cublas/index.html#results-reproducibility (Triggered internally at /pytorch/aten/src/ATen/Context.cpp:233.)\n",
            "  return torch.bmm(Q, K.transpose(1,2)) / scale\n",
            "/tmp/ipython-input-1567827658.py:66: UserWarning: Deterministic behavior was enabled with either `torch.use_deterministic_algorithms(True)` or `at::Context::setDeterministicAlgorithms(true)`, but this operation is not deterministic because it uses CuBLAS and you have CUDA >= 10.2. To enable deterministic behavior in this case, you must set an environment variable before running your PyTorch application: CUBLAS_WORKSPACE_CONFIG=:4096:8 or CUBLAS_WORKSPACE_CONFIG=:16:8. For more information, go to https://docs.nvidia.com/cuda/cublas/index.html#results-reproducibility (Triggered internally at /pytorch/aten/src/ATen/Context.cpp:233.)\n",
            "  P_att = torch.bmm(A, H_enc)\n",
            "/tmp/ipython-input-1567827658.py:69: UserWarning: Deterministic behavior was enabled with either `torch.use_deterministic_algorithms(True)` or `at::Context::setDeterministicAlgorithms(true)`, but this operation is not deterministic because it uses CuBLAS and you have CUDA >= 10.2. To enable deterministic behavior in this case, you must set an environment variable before running your PyTorch application: CUBLAS_WORKSPACE_CONFIG=:4096:8 or CUBLAS_WORKSPACE_CONFIG=:16:8. For more information, go to https://docs.nvidia.com/cuda/cublas/index.html#results-reproducibility (Triggered internally at /pytorch/aten/src/ATen/Context.cpp:233.)\n",
            "  H_att = torch.bmm(B, P_enc)\n"
          ]
        },
        {
          "output_type": "display_data",
          "data": {
            "text/plain": [
              "<Figure size 1400x1200 with 2 Axes>"
            ],
            "image/png": "[encoded data removed]"
          },
          "metadata": {}
        }
      ],
      "source": [
        "# ==== Cell 12: Attention heatmap on one example (Model C) ====\n",
        "import torch\n",
        "import numpy as np\n",
        "import matplotlib.pyplot as plt\n",
        "\n",
        "def visualize_attention_for_example_modelC(\n",
        "    model, ex, stoi, itos,\n",
        "    max_p, max_h, device,\n",
        "    unk_token='UNK', pad_token='PAD',\n",
        "    save_path=\"attn_single_c.png\",\n",
        "    show=True, cmap='viridis'\n",
        "):\n",
        "    \"\"\"\n",
        "    Render P->H attention for one example using Model C.\n",
        "    Assumes: model(P, H, return_attn=True) -> (logits, attn[B, Lp, Lh])\n",
        "    \"\"\"\n",
        "    # tokenize & index\n",
        "    unk_id = stoi.get(unk_token, 0)\n",
        "    pad_id = stoi.get(pad_token, 0)\n",
        "    p_ids = [stoi.get(t, unk_id) for t in simple_tok(ex[\"premise\"])]\n",
        "    h_ids = [stoi.get(t, unk_id) for t in simple_tok(ex[\"hypothesis\"])]\n",
        "\n",
        "    P = torch.tensor([pad_to_len(p_ids, max_p, pad_id)], dtype=torch.long, device=device)\n",
        "    H = torch.tensor([pad_to_len(h_ids, max_h, pad_id)], dtype=torch.long, device=device)\n",
        "\n",
        "    model.eval()\n",
        "    with torch.no_grad():\n",
        "        logits, attn = model(P, H, return_attn=True)\n",
        "        pred = int(logits.argmax(1).item())\n",
        "\n",
        "    def decode(ids):\n",
        "        toks = [itos.get(i, unk_token) for i in ids]\n",
        "        try:\n",
        "            cut = toks.index(pad_token)\n",
        "            toks = toks[:cut]\n",
        "        except ValueError:\n",
        "            pass\n",
        "        return toks\n",
        "\n",
        "    p_toks = decode(P[0].tolist())\n",
        "    h_toks = decode(H[0].tolist())\n",
        "    A = attn[0].detach().cpu().numpy()[:len(p_toks), :len(h_toks)]\n",
        "\n",
        "    # figure size adapted to token counts\n",
        "    fig_w = min(14, 0.5 * len(h_toks) + 4)\n",
        "    fig_h = min(12, 0.5 * len(p_toks) + 4)\n",
        "    plt.figure(figsize=(fig_w, fig_h))\n",
        "    im = plt.imshow(A, aspect='auto', cmap=cmap)\n",
        "    plt.colorbar(im, fraction=0.020)\n",
        "    plt.yticks(range(len(p_toks)), p_toks, fontsize=9)\n",
        "    plt.xticks(range(len(h_toks)), h_toks, rotation=90, fontsize=9)\n",
        "    title = f\"Attention P->H | pred={pred} (0=neutral, 1=entails)\"\n",
        "    if \"label\" in ex:\n",
        "        title += f\" | gold={encode_label(ex['label'])}\"\n",
        "    plt.title(title)\n",
        "    plt.tight_layout()\n",
        "\n",
        "    if save_path:\n",
        "        plt.savefig(save_path, dpi=300, bbox_inches='tight')\n",
        "    if show:\n",
        "        plt.show()\n",
        "    else:\n",
        "        plt.close()\n",
        "\n",
        "# Example call (keeps your variable names):\n",
        "visualize_attention_for_example_modelC(\n",
        "    modelC, test_raw[0], stoi, itos,\n",
        "    max_p=MAX_P, max_h=MAX_H, device=DEVICE,\n",
        "    save_path=\"attn_single_c.png\", show=True\n",
        ")\n"
      ]
    },
    {
      "cell_type": "code",
      "execution_count": null,
      "metadata": {
        "id": "Q-ovsH5jO19Q",
        "colab": {
          "base_uri": "https://localhost:8080/"
        },
        "outputId": "59529b2c-d694-4c72-f97a-b94e22879db8"
      },
      "outputs": [
        {
          "output_type": "stream",
          "name": "stderr",
          "text": [
            "/tmp/ipython-input-1567827658.py:51: UserWarning: Deterministic behavior was enabled with either `torch.use_deterministic_algorithms(True)` or `at::Context::setDeterministicAlgorithms(true)`, but this operation is not deterministic because it uses CuBLAS and you have CUDA >= 10.2. To enable deterministic behavior in this case, you must set an environment variable before running your PyTorch application: CUBLAS_WORKSPACE_CONFIG=:4096:8 or CUBLAS_WORKSPACE_CONFIG=:16:8. For more information, go to https://docs.nvidia.com/cuda/cublas/index.html#results-reproducibility (Triggered internally at /pytorch/aten/src/ATen/Context.cpp:233.)\n",
            "  return torch.bmm(Q, K.transpose(1,2)) / scale\n",
            "/tmp/ipython-input-1567827658.py:66: UserWarning: Deterministic behavior was enabled with either `torch.use_deterministic_algorithms(True)` or `at::Context::setDeterministicAlgorithms(true)`, but this operation is not deterministic because it uses CuBLAS and you have CUDA >= 10.2. To enable deterministic behavior in this case, you must set an environment variable before running your PyTorch application: CUBLAS_WORKSPACE_CONFIG=:4096:8 or CUBLAS_WORKSPACE_CONFIG=:16:8. For more information, go to https://docs.nvidia.com/cuda/cublas/index.html#results-reproducibility (Triggered internally at /pytorch/aten/src/ATen/Context.cpp:233.)\n",
            "  P_att = torch.bmm(A, H_enc)\n",
            "/tmp/ipython-input-1567827658.py:69: UserWarning: Deterministic behavior was enabled with either `torch.use_deterministic_algorithms(True)` or `at::Context::setDeterministicAlgorithms(true)`, but this operation is not deterministic because it uses CuBLAS and you have CUDA >= 10.2. To enable deterministic behavior in this case, you must set an environment variable before running your PyTorch application: CUBLAS_WORKSPACE_CONFIG=:4096:8 or CUBLAS_WORKSPACE_CONFIG=:16:8. For more information, go to https://docs.nvidia.com/cuda/cublas/index.html#results-reproducibility (Triggered internally at /pytorch/aten/src/ATen/Context.cpp:233.)\n",
            "  H_att = torch.bmm(B, P_enc)\n",
            "/usr/local/lib/python3.12/dist-packages/torch/autograd/graph.py:829: UserWarning: Deterministic behavior was enabled with either `torch.use_deterministic_algorithms(True)` or `at::Context::setDeterministicAlgorithms(true)`, but this operation is not deterministic because it uses CuBLAS and you have CUDA >= 10.2. To enable deterministic behavior in this case, you must set an environment variable before running your PyTorch application: CUBLAS_WORKSPACE_CONFIG=:4096:8 or CUBLAS_WORKSPACE_CONFIG=:16:8. For more information, go to https://docs.nvidia.com/cuda/cublas/index.html#results-reproducibility (Triggered internally at /pytorch/aten/src/ATen/Context.cpp:233.)\n",
            "  return Variable._execution_engine.run_backward(  # Calls into the C++ engine to run the backward pass\n"
          ]
        },
        {
          "output_type": "stream",
          "name": "stdout",
          "text": [
            "[Ep 01] train loss 0.5585 acc 0.7078 | valid loss 0.6408 acc 0.6833\n",
            "[Ep 02] train loss 0.4172 acc 0.8117 | valid loss 0.5703 acc 0.7109\n",
            "[Ep 03] train loss 0.3558 acc 0.8446 | valid loss 0.6003 acc 0.7209\n",
            "[Ep 04] train loss 0.3144 acc 0.8660 | valid loss 0.5863 acc 0.7201\n",
            "[Ep 05] train loss 0.2788 acc 0.8832 | valid loss 0.5995 acc 0.7370\n",
            "[Ep 06] train loss 0.2484 acc 0.8999 | valid loss 0.5805 acc 0.7569\n",
            "[Ep 07] train loss 0.2242 acc 0.9063 | valid loss 0.5752 acc 0.7607\n",
            "[Ep 08] train loss 0.1980 acc 0.9220 | valid loss 0.6819 acc 0.7500\n",
            "[Ep 09] train loss 0.1761 acc 0.9296 | valid loss 0.5703 acc 0.7822\n",
            "[Ep 10] train loss 0.1544 acc 0.9393 | valid loss 0.6733 acc 0.7646\n",
            "[Ep 11] train loss 0.1381 acc 0.9474 | valid loss 0.6404 acc 0.7699\n",
            "[Ep 12] train loss 0.1260 acc 0.9505 | valid loss 0.7563 acc 0.7684\n",
            "[Ep 13] train loss 0.1113 acc 0.9579 | valid loss 0.8216 acc 0.7638\n",
            "[Ep 14] train loss 0.0997 acc 0.9619 | valid loss 0.7455 acc 0.7684\n",
            "Early stopping.\n",
            "Variant | type=dot | cross=True -> VAL=0.7822 TEST=0.7596\n",
            "[Ep 01] train loss 0.5761 acc 0.6958 | valid loss 0.6396 acc 0.6649\n",
            "[Ep 02] train loss 0.4503 acc 0.7895 | valid loss 0.5611 acc 0.7109\n",
            "[Ep 03] train loss 0.3927 acc 0.8236 | valid loss 0.6885 acc 0.6794\n",
            "[Ep 04] train loss 0.3584 acc 0.8433 | valid loss 0.6258 acc 0.7147\n",
            "[Ep 05] train loss 0.3274 acc 0.8581 | valid loss 0.6041 acc 0.7109\n",
            "[Ep 06] train loss 0.3014 acc 0.8717 | valid loss 0.5541 acc 0.7431\n",
            "[Ep 07] train loss 0.2758 acc 0.8800 | valid loss 0.6939 acc 0.7155\n",
            "[Ep 08] train loss 0.2577 acc 0.8917 | valid loss 0.6502 acc 0.7285\n",
            "[Ep 09] train loss 0.2364 acc 0.9001 | valid loss 0.7355 acc 0.7193\n",
            "[Ep 10] train loss 0.2183 acc 0.9093 | valid loss 0.8772 acc 0.7009\n",
            "[Ep 11] train loss 0.1907 acc 0.9209 | valid loss 0.9307 acc 0.7224\n",
            "Early stopping.\n",
            "Variant | type=dot | cross=False -> VAL=0.7431 TEST=0.7540\n"
          ]
        },
        {
          "output_type": "stream",
          "name": "stderr",
          "text": [
            "/usr/local/lib/python3.12/dist-packages/torch/nn/modules/linear.py:125: UserWarning: Deterministic behavior was enabled with either `torch.use_deterministic_algorithms(True)` or `at::Context::setDeterministicAlgorithms(true)`, but this operation is not deterministic because it uses CuBLAS and you have CUDA >= 10.2. To enable deterministic behavior in this case, you must set an environment variable before running your PyTorch application: CUBLAS_WORKSPACE_CONFIG=:4096:8 or CUBLAS_WORKSPACE_CONFIG=:16:8. For more information, go to https://docs.nvidia.com/cuda/cublas/index.html#results-reproducibility (Triggered internally at /pytorch/aten/src/ATen/Context.cpp:233.)\n",
            "  return F.linear(input, self.weight, self.bias)\n"
          ]
        },
        {
          "output_type": "stream",
          "name": "stdout",
          "text": [
            "[Ep 01] train loss 0.5607 acc 0.7043 | valid loss 0.5502 acc 0.7117\n",
            "[Ep 02] train loss 0.4325 acc 0.7993 | valid loss 0.5288 acc 0.7201\n",
            "[Ep 03] train loss 0.3580 acc 0.8433 | valid loss 0.4990 acc 0.7400\n",
            "[Ep 04] train loss 0.3148 acc 0.8653 | valid loss 0.5558 acc 0.7270\n",
            "[Ep 05] train loss 0.2785 acc 0.8835 | valid loss 0.5234 acc 0.7370\n",
            "[Ep 06] train loss 0.2528 acc 0.8961 | valid loss 0.5784 acc 0.7316\n",
            "[Ep 07] train loss 0.2201 acc 0.9089 | valid loss 0.5978 acc 0.7408\n",
            "[Ep 08] train loss 0.1999 acc 0.9179 | valid loss 0.5987 acc 0.7469\n",
            "[Ep 09] train loss 0.1769 acc 0.9280 | valid loss 0.6053 acc 0.7523\n",
            "[Ep 10] train loss 0.1557 acc 0.9373 | valid loss 0.6134 acc 0.7684\n",
            "[Ep 11] train loss 0.1380 acc 0.9452 | valid loss 0.6502 acc 0.7492\n",
            "[Ep 12] train loss 0.1243 acc 0.9518 | valid loss 0.6873 acc 0.7577\n",
            "[Ep 13] train loss 0.1098 acc 0.9574 | valid loss 0.7183 acc 0.7692\n",
            "[Ep 14] train loss 0.0951 acc 0.9635 | valid loss 0.7731 acc 0.7730\n",
            "[Ep 15] train loss 0.0892 acc 0.9664 | valid loss 0.7293 acc 0.7615\n",
            "[Ep 16] train loss 0.0816 acc 0.9689 | valid loss 0.8568 acc 0.7500\n",
            "[Ep 17] train loss 0.0727 acc 0.9732 | valid loss 0.8046 acc 0.7630\n",
            "[Ep 18] train loss 0.0676 acc 0.9745 | valid loss 0.8774 acc 0.7546\n",
            "[Ep 19] train loss 0.0606 acc 0.9780 | valid loss 1.1187 acc 0.7531\n",
            "Early stopping.\n",
            "Variant | type=add | cross=True -> VAL=0.7730 TEST=0.7469\n",
            "[Ep 01] train loss 0.5778 acc 0.6917 | valid loss 0.7356 acc 0.6664\n",
            "[Ep 02] train loss 0.4523 acc 0.7850 | valid loss 0.6280 acc 0.7078\n",
            "[Ep 03] train loss 0.3907 acc 0.8237 | valid loss 0.7092 acc 0.7025\n",
            "[Ep 04] train loss 0.3543 acc 0.8434 | valid loss 0.7042 acc 0.6848\n",
            "[Ep 05] train loss 0.3282 acc 0.8573 | valid loss 0.6620 acc 0.7147\n",
            "[Ep 06] train loss 0.3040 acc 0.8700 | valid loss 0.6786 acc 0.7255\n",
            "[Ep 07] train loss 0.2822 acc 0.8799 | valid loss 0.5918 acc 0.7193\n",
            "[Ep 08] train loss 0.2607 acc 0.8895 | valid loss 0.7489 acc 0.7009\n",
            "[Ep 09] train loss 0.2381 acc 0.9018 | valid loss 0.7180 acc 0.7055\n",
            "[Ep 10] train loss 0.2164 acc 0.9097 | valid loss 0.7736 acc 0.7216\n",
            "[Ep 11] train loss 0.1937 acc 0.9192 | valid loss 0.7833 acc 0.7216\n",
            "Early stopping.\n",
            "Variant | type=add | cross=False -> VAL=0.7255 TEST=0.7418\n",
            "\n",
            "| attn_type | cross_attn | Val   | Test  |\n",
            "|-----------|------------|-------|-------|\n",
            "| dot       | True       | 0.7822 | 0.7596 |\n",
            "| dot       | False      | 0.7431 | 0.7540 |\n",
            "| add       | True       | 0.7730 | 0.7469 |\n",
            "| add       | False      | 0.7255 | 0.7418 |\n"
          ]
        }
      ],
      "source": [
        "# ==== Cell 13: Attention ablation runs (4 variants) ====\n",
        "def train_eval_C_variant(attn_type='dot', use_cross_attn=True):\n",
        "    m = ESIMClassifier(\n",
        "        vocab_size=vocab_size, emb_dim=EMB_DIM, hid=HID_C,\n",
        "        emb_matrix=emb_matrix, dropout=DROPOUT_C, num_classes=2,\n",
        "        attn_type=attn_type, use_cross_attn=use_cross_attn\n",
        "    ).to(DEVICE)\n",
        "    _, v, _ = fit(m, train_loader, valid_loader,\n",
        "                  epochs=EPOCHS, lr=LR, weight_decay=WEIGHT_DECAY, patience=PATIENCE,\n",
        "                  class_weights=None, label_smooth=0.0)\n",
        "    acc, _, _ = evaluate_with_preds(m, test_loader)\n",
        "    print(f\"Variant | type={attn_type:3s} | cross={use_cross_attn} -> VAL={v:.4f} TEST={acc:.4f}\")\n",
        "    return v, acc\n",
        "\n",
        "rows = []\n",
        "for t in ['dot','add']:\n",
        "    for flag in [True, False]:\n",
        "        v,a = train_eval_C_variant(attn_type=t, use_cross_attn=flag)\n",
        "        rows.append((t, flag, round(v,4), round(a,4)))\n",
        "\n",
        "print(\"\\n| attn_type | cross_attn | Val   | Test  |\")\n",
        "print(\"|-----------|------------|-------|-------|\")\n",
        "for t,flag,v,a in rows:\n",
        "    print(f\"| {t:9s} | {str(flag):10s} | {v:5.4f} | {a:5.4f} |\")\n"
      ]
    },
    {
      "cell_type": "code",
      "execution_count": null,
      "metadata": {
        "id": "jxIrWZ9LO3NQ",
        "colab": {
          "base_uri": "https://localhost:8080/"
        },
        "outputId": "bae0602d-9c4e-40d5-a062-2fd43d4300b6"
      },
      "outputs": [
        {
          "output_type": "stream",
          "name": "stderr",
          "text": [
            "/tmp/ipython-input-1567827658.py:51: UserWarning: Deterministic behavior was enabled with either `torch.use_deterministic_algorithms(True)` or `at::Context::setDeterministicAlgorithms(true)`, but this operation is not deterministic because it uses CuBLAS and you have CUDA >= 10.2. To enable deterministic behavior in this case, you must set an environment variable before running your PyTorch application: CUBLAS_WORKSPACE_CONFIG=:4096:8 or CUBLAS_WORKSPACE_CONFIG=:16:8. For more information, go to https://docs.nvidia.com/cuda/cublas/index.html#results-reproducibility (Triggered internally at /pytorch/aten/src/ATen/Context.cpp:233.)\n",
            "  return torch.bmm(Q, K.transpose(1,2)) / scale\n",
            "/tmp/ipython-input-1567827658.py:66: UserWarning: Deterministic behavior was enabled with either `torch.use_deterministic_algorithms(True)` or `at::Context::setDeterministicAlgorithms(true)`, but this operation is not deterministic because it uses CuBLAS and you have CUDA >= 10.2. To enable deterministic behavior in this case, you must set an environment variable before running your PyTorch application: CUBLAS_WORKSPACE_CONFIG=:4096:8 or CUBLAS_WORKSPACE_CONFIG=:16:8. For more information, go to https://docs.nvidia.com/cuda/cublas/index.html#results-reproducibility (Triggered internally at /pytorch/aten/src/ATen/Context.cpp:233.)\n",
            "  P_att = torch.bmm(A, H_enc)\n",
            "/tmp/ipython-input-1567827658.py:69: UserWarning: Deterministic behavior was enabled with either `torch.use_deterministic_algorithms(True)` or `at::Context::setDeterministicAlgorithms(true)`, but this operation is not deterministic because it uses CuBLAS and you have CUDA >= 10.2. To enable deterministic behavior in this case, you must set an environment variable before running your PyTorch application: CUBLAS_WORKSPACE_CONFIG=:4096:8 or CUBLAS_WORKSPACE_CONFIG=:16:8. For more information, go to https://docs.nvidia.com/cuda/cublas/index.html#results-reproducibility (Triggered internally at /pytorch/aten/src/ATen/Context.cpp:233.)\n",
            "  H_att = torch.bmm(B, P_enc)\n"
          ]
        },
        {
          "output_type": "stream",
          "name": "stdout",
          "text": [
            "[Ep 01] train loss 0.5604 acc 0.7070 | valid loss 0.5938 acc 0.6802\n",
            "[Ep 02] train loss 0.4282 acc 0.8021 | valid loss 0.5371 acc 0.7285\n",
            "[Ep 03] train loss 0.3635 acc 0.8397 | valid loss 0.5533 acc 0.7224\n",
            "[Ep 04] train loss 0.3211 acc 0.8613 | valid loss 0.5481 acc 0.7393\n",
            "[Ep 05] train loss 0.2855 acc 0.8797 | valid loss 0.5492 acc 0.7347\n",
            "[Ep 06] train loss 0.2545 acc 0.8928 | valid loss 0.6331 acc 0.7385\n",
            "[Ep 07] train loss 0.2307 acc 0.9033 | valid loss 0.6130 acc 0.7446\n",
            "[Ep 08] train loss 0.2028 acc 0.9160 | valid loss 0.5688 acc 0.7638\n",
            "[Ep 09] train loss 0.1823 acc 0.9252 | valid loss 0.5906 acc 0.7607\n",
            "[Ep 10] train loss 0.1648 acc 0.9345 | valid loss 0.6272 acc 0.7776\n",
            "[Ep 11] train loss 0.1436 acc 0.9424 | valid loss 0.6501 acc 0.7607\n",
            "[Ep 12] train loss 0.1322 acc 0.9465 | valid loss 0.5776 acc 0.7830\n",
            "[Ep 13] train loss 0.1121 acc 0.9568 | valid loss 0.8391 acc 0.7485\n",
            "[Ep 14] train loss 0.1068 acc 0.9593 | valid loss 0.7634 acc 0.7592\n",
            "[Ep 15] train loss 0.0908 acc 0.9650 | valid loss 0.7773 acc 0.7715\n",
            "[Ep 16] train loss 0.0810 acc 0.9695 | valid loss 0.7870 acc 0.7699\n",
            "[Ep 17] train loss 0.0813 acc 0.9686 | valid loss 0.9601 acc 0.7722\n",
            "Early stopping.\n",
            "C-abl | type=dot A=None proj=256 LN=False drop=0.3 -> VAL=0.7830 TEST=0.7747\n",
            "[Ep 01] train loss 0.5713 acc 0.7023 | valid loss 0.5824 acc 0.7109\n",
            "[Ep 02] train loss 0.4255 acc 0.8031 | valid loss 0.5524 acc 0.7170\n",
            "[Ep 03] train loss 0.3612 acc 0.8395 | valid loss 0.5645 acc 0.7278\n",
            "[Ep 04] train loss 0.3200 acc 0.8635 | valid loss 0.5702 acc 0.7216\n",
            "[Ep 05] train loss 0.2844 acc 0.8795 | valid loss 0.5949 acc 0.7423\n",
            "[Ep 06] train loss 0.2546 acc 0.8919 | valid loss 0.6072 acc 0.7247\n",
            "[Ep 07] train loss 0.2246 acc 0.9043 | valid loss 0.6207 acc 0.7523\n",
            "[Ep 08] train loss 0.2001 acc 0.9187 | valid loss 0.6553 acc 0.7408\n",
            "[Ep 09] train loss 0.1838 acc 0.9237 | valid loss 0.7018 acc 0.7485\n",
            "[Ep 10] train loss 0.1601 acc 0.9357 | valid loss 0.7276 acc 0.7370\n",
            "[Ep 11] train loss 0.1423 acc 0.9423 | valid loss 0.7854 acc 0.7523\n",
            "[Ep 12] train loss 0.1241 acc 0.9508 | valid loss 0.8098 acc 0.7454\n",
            "Early stopping.\n",
            "C-abl | type=dot A=None proj=128 LN=False drop=0.3 -> VAL=0.7523 TEST=0.7559\n",
            "[Ep 01] train loss 0.5617 acc 0.7027 | valid loss 0.6536 acc 0.6664\n",
            "[Ep 02] train loss 0.4309 acc 0.8023 | valid loss 0.6952 acc 0.6825\n",
            "[Ep 03] train loss 0.3588 acc 0.8426 | valid loss 0.6322 acc 0.7186\n",
            "[Ep 04] train loss 0.3150 acc 0.8669 | valid loss 0.6039 acc 0.7178\n",
            "[Ep 05] train loss 0.2802 acc 0.8828 | valid loss 0.5397 acc 0.7423\n",
            "[Ep 06] train loss 0.2485 acc 0.8954 | valid loss 0.5717 acc 0.7362\n",
            "[Ep 07] train loss 0.2245 acc 0.9091 | valid loss 0.6919 acc 0.7216\n",
            "[Ep 08] train loss 0.1994 acc 0.9210 | valid loss 0.6396 acc 0.7454\n",
            "[Ep 09] train loss 0.1771 acc 0.9288 | valid loss 0.6853 acc 0.7224\n",
            "[Ep 10] train loss 0.1560 acc 0.9381 | valid loss 0.7472 acc 0.7308\n",
            "[Ep 11] train loss 0.1370 acc 0.9451 | valid loss 0.7828 acc 0.7262\n",
            "[Ep 12] train loss 0.1275 acc 0.9494 | valid loss 0.7428 acc 0.7400\n",
            "[Ep 13] train loss 0.1118 acc 0.9561 | valid loss 0.7782 acc 0.7492\n",
            "[Ep 14] train loss 0.0988 acc 0.9613 | valid loss 0.8637 acc 0.7354\n",
            "[Ep 15] train loss 0.0890 acc 0.9654 | valid loss 0.9812 acc 0.7362\n",
            "[Ep 16] train loss 0.0797 acc 0.9699 | valid loss 0.9959 acc 0.7270\n",
            "[Ep 17] train loss 0.0735 acc 0.9709 | valid loss 0.9574 acc 0.7293\n",
            "[Ep 18] train loss 0.0645 acc 0.9765 | valid loss 1.1001 acc 0.7224\n",
            "Early stopping.\n",
            "C-abl | type=add A=128 proj=None LN=False drop=0.3 -> VAL=0.7492 TEST=0.7615\n",
            "[Ep 01] train loss 0.5588 acc 0.7079 | valid loss 0.5808 acc 0.7101\n",
            "[Ep 02] train loss 0.4210 acc 0.8048 | valid loss 0.5595 acc 0.7017\n",
            "[Ep 03] train loss 0.3597 acc 0.8419 | valid loss 0.5544 acc 0.7301\n",
            "[Ep 04] train loss 0.3145 acc 0.8663 | valid loss 0.6446 acc 0.7224\n",
            "[Ep 05] train loss 0.2790 acc 0.8799 | valid loss 0.6149 acc 0.7239\n",
            "[Ep 06] train loss 0.2529 acc 0.8946 | valid loss 0.6347 acc 0.7423\n",
            "[Ep 07] train loss 0.2226 acc 0.9071 | valid loss 0.6184 acc 0.7477\n",
            "[Ep 08] train loss 0.1971 acc 0.9202 | valid loss 0.6022 acc 0.7653\n",
            "[Ep 09] train loss 0.1729 acc 0.9308 | valid loss 0.7009 acc 0.7508\n",
            "[Ep 10] train loss 0.1554 acc 0.9387 | valid loss 0.7122 acc 0.7561\n",
            "[Ep 11] train loss 0.1405 acc 0.9449 | valid loss 0.7952 acc 0.7508\n",
            "[Ep 12] train loss 0.1238 acc 0.9501 | valid loss 0.7425 acc 0.7676\n",
            "[Ep 13] train loss 0.1056 acc 0.9592 | valid loss 0.7649 acc 0.7722\n",
            "[Ep 14] train loss 0.0948 acc 0.9638 | valid loss 0.9390 acc 0.7531\n",
            "[Ep 15] train loss 0.0870 acc 0.9677 | valid loss 1.0284 acc 0.7577\n",
            "[Ep 16] train loss 0.0813 acc 0.9686 | valid loss 1.0780 acc 0.7485\n",
            "[Ep 17] train loss 0.0734 acc 0.9716 | valid loss 1.1217 acc 0.7301\n",
            "[Ep 18] train loss 0.0708 acc 0.9741 | valid loss 1.0422 acc 0.7431\n",
            "Early stopping.\n",
            "C-abl | type=add A=256 proj=None LN=False drop=0.3 -> VAL=0.7722 TEST=0.7521\n",
            "[Ep 01] train loss 0.5567 acc 0.7106 | valid loss 0.6323 acc 0.6986\n",
            "[Ep 02] train loss 0.4242 acc 0.8080 | valid loss 0.6518 acc 0.7048\n",
            "[Ep 03] train loss 0.3642 acc 0.8394 | valid loss 0.6351 acc 0.7109\n",
            "[Ep 04] train loss 0.3226 acc 0.8604 | valid loss 0.5707 acc 0.7354\n",
            "[Ep 05] train loss 0.2903 acc 0.8779 | valid loss 0.5883 acc 0.7347\n",
            "[Ep 06] train loss 0.2571 acc 0.8942 | valid loss 0.6001 acc 0.7531\n",
            "[Ep 07] train loss 0.2362 acc 0.9029 | valid loss 0.7015 acc 0.7354\n",
            "[Ep 08] train loss 0.2154 acc 0.9115 | valid loss 0.6462 acc 0.7538\n",
            "[Ep 09] train loss 0.1902 acc 0.9236 | valid loss 0.7731 acc 0.7515\n",
            "[Ep 10] train loss 0.1679 acc 0.9315 | valid loss 0.7880 acc 0.7492\n",
            "[Ep 11] train loss 0.1487 acc 0.9407 | valid loss 0.8448 acc 0.7500\n",
            "[Ep 12] train loss 0.1349 acc 0.9466 | valid loss 0.7582 acc 0.7676\n",
            "[Ep 13] train loss 0.1161 acc 0.9539 | valid loss 0.9521 acc 0.7485\n",
            "[Ep 14] train loss 0.1015 acc 0.9607 | valid loss 0.9142 acc 0.7531\n",
            "[Ep 15] train loss 0.1001 acc 0.9613 | valid loss 0.8874 acc 0.7623\n",
            "[Ep 16] train loss 0.0908 acc 0.9655 | valid loss 1.0305 acc 0.7508\n",
            "[Ep 17] train loss 0.0774 acc 0.9702 | valid loss 1.2737 acc 0.7408\n",
            "Early stopping.\n",
            "C-abl | type=dot A=None proj=256 LN=True drop=0.3 -> VAL=0.7676 TEST=0.7516\n",
            "[Ep 01] train loss 0.5637 acc 0.7084 | valid loss 0.5969 acc 0.6679\n",
            "[Ep 02] train loss 0.4269 acc 0.8014 | valid loss 0.7091 acc 0.6472\n",
            "[Ep 03] train loss 0.3637 acc 0.8400 | valid loss 0.6405 acc 0.6764\n",
            "[Ep 04] train loss 0.3162 acc 0.8638 | valid loss 0.5877 acc 0.7009\n",
            "[Ep 05] train loss 0.2815 acc 0.8804 | valid loss 0.6185 acc 0.6917\n",
            "[Ep 06] train loss 0.2573 acc 0.8918 | valid loss 0.5750 acc 0.6994\n",
            "[Ep 07] train loss 0.2223 acc 0.9071 | valid loss 0.5673 acc 0.7500\n",
            "[Ep 08] train loss 0.2024 acc 0.9177 | valid loss 0.6369 acc 0.7423\n",
            "[Ep 09] train loss 0.1786 acc 0.9252 | valid loss 0.7032 acc 0.7362\n",
            "[Ep 10] train loss 0.1624 acc 0.9357 | valid loss 0.6977 acc 0.7362\n",
            "[Ep 11] train loss 0.1425 acc 0.9435 | valid loss 0.7101 acc 0.7577\n",
            "[Ep 12] train loss 0.1251 acc 0.9507 | valid loss 0.8238 acc 0.7232\n",
            "[Ep 13] train loss 0.1136 acc 0.9547 | valid loss 0.8052 acc 0.7385\n",
            "[Ep 14] train loss 0.1004 acc 0.9602 | valid loss 0.8071 acc 0.7554\n",
            "[Ep 15] train loss 0.0908 acc 0.9656 | valid loss 0.8605 acc 0.7362\n",
            "[Ep 16] train loss 0.0799 acc 0.9683 | valid loss 0.9346 acc 0.7454\n",
            "Early stopping.\n",
            "C-abl | type=dot A=None proj=256 LN=False drop=0.3 -> VAL=0.7577 TEST=0.7794\n",
            "[Ep 01] train loss 0.5638 acc 0.7014 | valid loss 0.6741 acc 0.6388\n",
            "[Ep 02] train loss 0.4284 acc 0.8033 | valid loss 0.6718 acc 0.6779\n",
            "[Ep 03] train loss 0.3590 acc 0.8412 | valid loss 0.5333 acc 0.7446\n",
            "[Ep 04] train loss 0.3119 acc 0.8680 | valid loss 0.5975 acc 0.7377\n",
            "[Ep 05] train loss 0.2826 acc 0.8808 | valid loss 0.5673 acc 0.7477\n",
            "[Ep 06] train loss 0.2465 acc 0.8955 | valid loss 0.6056 acc 0.7607\n",
            "[Ep 07] train loss 0.2215 acc 0.9098 | valid loss 0.6607 acc 0.7408\n",
            "[Ep 08] train loss 0.2023 acc 0.9158 | valid loss 0.6311 acc 0.7339\n",
            "[Ep 09] train loss 0.1778 acc 0.9279 | valid loss 0.7526 acc 0.7408\n",
            "[Ep 10] train loss 0.1582 acc 0.9366 | valid loss 0.6749 acc 0.7692\n",
            "[Ep 11] train loss 0.1394 acc 0.9443 | valid loss 0.7157 acc 0.7707\n",
            "[Ep 12] train loss 0.1241 acc 0.9508 | valid loss 0.7063 acc 0.7676\n",
            "[Ep 13] train loss 0.1090 acc 0.9572 | valid loss 0.6929 acc 0.7837\n",
            "[Ep 14] train loss 0.1013 acc 0.9605 | valid loss 0.7992 acc 0.7623\n",
            "[Ep 15] train loss 0.0923 acc 0.9651 | valid loss 0.8010 acc 0.7730\n",
            "[Ep 16] train loss 0.0836 acc 0.9675 | valid loss 0.8021 acc 0.7684\n",
            "[Ep 17] train loss 0.0705 acc 0.9715 | valid loss 0.9035 acc 0.7753\n",
            "[Ep 18] train loss 0.0697 acc 0.9734 | valid loss 0.8257 acc 0.7807\n",
            "Early stopping.\n",
            "C-abl | type=dot A=None proj=256 LN=False drop=0.3 -> VAL=0.7837 TEST=0.7681\n",
            "[Ep 01] train loss 0.5730 acc 0.6972 | valid loss 0.6322 acc 0.7017\n",
            "[Ep 02] train loss 0.4554 acc 0.7851 | valid loss 0.5182 acc 0.7408\n",
            "[Ep 03] train loss 0.3970 acc 0.8212 | valid loss 0.5388 acc 0.7301\n",
            "[Ep 04] train loss 0.3518 acc 0.8470 | valid loss 0.4759 acc 0.7830\n",
            "[Ep 05] train loss 0.3266 acc 0.8577 | valid loss 0.5040 acc 0.7684\n",
            "[Ep 06] train loss 0.3039 acc 0.8699 | valid loss 0.5291 acc 0.7692\n",
            "[Ep 07] train loss 0.2777 acc 0.8819 | valid loss 0.5680 acc 0.7538\n",
            "[Ep 08] train loss 0.2628 acc 0.8902 | valid loss 0.6344 acc 0.7462\n",
            "[Ep 09] train loss 0.2405 acc 0.9002 | valid loss 0.5818 acc 0.7592\n",
            "Early stopping.\n",
            "C-abl | type=dot A=None proj=256 LN=False drop=0.4 -> VAL=0.7830 TEST=0.7531\n",
            "\n",
            "| variant   | Val   | Test  |\n",
            "|-----------|-------|-------|\n",
            "| proj 2H   | 0.7830 | 0.7747 |\n",
            "| proj 1H   | 0.7523 | 0.7559 |\n",
            "| add A=H   | 0.7492 | 0.7615 |\n",
            "| add A=2H  | 0.7722 | 0.7521 |\n",
            "| LN on     | 0.7676 | 0.7516 |\n",
            "| LN off    | 0.7577 | 0.7794 |\n",
            "| drop=0.3  | 0.7837 | 0.7681 |\n",
            "| drop=0.4  | 0.7830 | 0.7531 |\n",
            "Saved -> /content/c_additional_ablation.json\n"
          ]
        }
      ],
      "source": [
        "# ==== Cell 14: Model C additional ablations (proj/LN/dropout) ====\n",
        "import json\n",
        "\n",
        "def train_eval_C_variant2(attn_type='dot', attn_dim=None, proj_out_dim=None,\n",
        "                          use_ln=False, dropout=0.3):\n",
        "    m = ESIMClassifier(\n",
        "        vocab_size=vocab_size, emb_dim=EMB_DIM, hid=HID_C, emb_matrix=emb_matrix,\n",
        "        dropout=dropout, num_classes=2, attn_type=attn_type, use_cross_attn=True,\n",
        "        attn_dim=attn_dim, proj_out_dim=proj_out_dim, use_layernorm=use_ln\n",
        "    ).to(DEVICE)\n",
        "    _, v, _ = fit(m, train_loader, valid_loader, EPOCHS, LR, WEIGHT_DECAY, PATIENCE,\n",
        "                  class_weights=None, label_smooth=0.0)\n",
        "    acc, _, _ = evaluate_with_preds(m, test_loader)\n",
        "    print(f\"C-abl | type={attn_type:3s} A={attn_dim} proj={proj_out_dim} LN={use_ln} drop={dropout} \"\n",
        "          f\"-> VAL={v:.4f} TEST={acc:.4f}\")\n",
        "    return v, acc\n",
        "\n",
        "rows2 = []\n",
        "rows2.append((\"proj 2H\",) + train_eval_C_variant2(attn_type='dot', proj_out_dim=2*HID_C))\n",
        "rows2.append((\"proj 1H\",) + train_eval_C_variant2(attn_type='dot', proj_out_dim=HID_C))\n",
        "rows2.append((\"add A=H\",) + train_eval_C_variant2(attn_type='add', attn_dim=HID_C))\n",
        "rows2.append((\"add A=2H\",) + train_eval_C_variant2(attn_type='add', attn_dim=2*HID_C))\n",
        "rows2.append((\"LN on\",)  + train_eval_C_variant2(attn_type='dot', proj_out_dim=2*HID_C, use_ln=True))\n",
        "rows2.append((\"LN off\",) + train_eval_C_variant2(attn_type='dot', proj_out_dim=2*HID_C, use_ln=False))\n",
        "rows2.append((\"drop=0.3\",)+ train_eval_C_variant2(attn_type='dot', proj_out_dim=2*HID_C, dropout=0.3))\n",
        "rows2.append((\"drop=0.4\",)+ train_eval_C_variant2(attn_type='dot', proj_out_dim=2*HID_C, dropout=0.4))\n",
        "\n",
        "print(\"\\n| variant   | Val   | Test  |\")\n",
        "print(\"|-----------|-------|-------|\")\n",
        "for name, v, a in rows2:\n",
        "    print(f\"| {name:9s} | {v:5.4f} | {a:5.4f} |\")\n",
        "\n",
        "with open(\"/content/c_additional_ablation.json\", \"w\", encoding=\"utf-8\") as f:\n",
        "    json.dump([{\"variant\":n, \"val\":v, \"test\":a} for n,v,a in rows2], f, indent=2)\n",
        "print(\"Saved -> /content/c_additional_ablation.json\")\n"
      ]
    },
    {
      "cell_type": "code",
      "execution_count": null,
      "metadata": {
        "id": "eJYdL6j7O4Uw",
        "colab": {
          "base_uri": "https://localhost:8080/"
        },
        "outputId": "d308731b-9366-4e85-a14a-4cb717b53939"
      },
      "outputs": [
        {
          "output_type": "stream",
          "name": "stderr",
          "text": [
            "/tmp/ipython-input-1567827658.py:51: UserWarning: Deterministic behavior was enabled with either `torch.use_deterministic_algorithms(True)` or `at::Context::setDeterministicAlgorithms(true)`, but this operation is not deterministic because it uses CuBLAS and you have CUDA >= 10.2. To enable deterministic behavior in this case, you must set an environment variable before running your PyTorch application: CUBLAS_WORKSPACE_CONFIG=:4096:8 or CUBLAS_WORKSPACE_CONFIG=:16:8. For more information, go to https://docs.nvidia.com/cuda/cublas/index.html#results-reproducibility (Triggered internally at /pytorch/aten/src/ATen/Context.cpp:233.)\n",
            "  return torch.bmm(Q, K.transpose(1,2)) / scale\n",
            "/tmp/ipython-input-1567827658.py:66: UserWarning: Deterministic behavior was enabled with either `torch.use_deterministic_algorithms(True)` or `at::Context::setDeterministicAlgorithms(true)`, but this operation is not deterministic because it uses CuBLAS and you have CUDA >= 10.2. To enable deterministic behavior in this case, you must set an environment variable before running your PyTorch application: CUBLAS_WORKSPACE_CONFIG=:4096:8 or CUBLAS_WORKSPACE_CONFIG=:16:8. For more information, go to https://docs.nvidia.com/cuda/cublas/index.html#results-reproducibility (Triggered internally at /pytorch/aten/src/ATen/Context.cpp:233.)\n",
            "  P_att = torch.bmm(A, H_enc)\n",
            "/tmp/ipython-input-1567827658.py:69: UserWarning: Deterministic behavior was enabled with either `torch.use_deterministic_algorithms(True)` or `at::Context::setDeterministicAlgorithms(true)`, but this operation is not deterministic because it uses CuBLAS and you have CUDA >= 10.2. To enable deterministic behavior in this case, you must set an environment variable before running your PyTorch application: CUBLAS_WORKSPACE_CONFIG=:4096:8 or CUBLAS_WORKSPACE_CONFIG=:16:8. For more information, go to https://docs.nvidia.com/cuda/cublas/index.html#results-reproducibility (Triggered internally at /pytorch/aten/src/ATen/Context.cpp:233.)\n",
            "  H_att = torch.bmm(B, P_enc)\n",
            "/tmp/ipython-input-1567827658.py:51: UserWarning: Deterministic behavior was enabled with either `torch.use_deterministic_algorithms(True)` or `at::Context::setDeterministicAlgorithms(true)`, but this operation is not deterministic because it uses CuBLAS and you have CUDA >= 10.2. To enable deterministic behavior in this case, you must set an environment variable before running your PyTorch application: CUBLAS_WORKSPACE_CONFIG=:4096:8 or CUBLAS_WORKSPACE_CONFIG=:16:8. For more information, go to https://docs.nvidia.com/cuda/cublas/index.html#results-reproducibility (Triggered internally at /pytorch/aten/src/ATen/Context.cpp:233.)\n",
            "  return torch.bmm(Q, K.transpose(1,2)) / scale\n",
            "/tmp/ipython-input-1567827658.py:66: UserWarning: Deterministic behavior was enabled with either `torch.use_deterministic_algorithms(True)` or `at::Context::setDeterministicAlgorithms(true)`, but this operation is not deterministic because it uses CuBLAS and you have CUDA >= 10.2. To enable deterministic behavior in this case, you must set an environment variable before running your PyTorch application: CUBLAS_WORKSPACE_CONFIG=:4096:8 or CUBLAS_WORKSPACE_CONFIG=:16:8. For more information, go to https://docs.nvidia.com/cuda/cublas/index.html#results-reproducibility (Triggered internally at /pytorch/aten/src/ATen/Context.cpp:233.)\n",
            "  P_att = torch.bmm(A, H_enc)\n",
            "/tmp/ipython-input-1567827658.py:69: UserWarning: Deterministic behavior was enabled with either `torch.use_deterministic_algorithms(True)` or `at::Context::setDeterministicAlgorithms(true)`, but this operation is not deterministic because it uses CuBLAS and you have CUDA >= 10.2. To enable deterministic behavior in this case, you must set an environment variable before running your PyTorch application: CUBLAS_WORKSPACE_CONFIG=:4096:8 or CUBLAS_WORKSPACE_CONFIG=:16:8. For more information, go to https://docs.nvidia.com/cuda/cublas/index.html#results-reproducibility (Triggered internally at /pytorch/aten/src/ATen/Context.cpp:233.)\n",
            "  H_att = torch.bmm(B, P_enc)\n"
          ]
        }
      ],
      "source": [
        "# ==== Cell 15: Pick SUCCESS and FAILURE and plot attention maps (Model C) ====\n",
        "import torch\n",
        "import numpy as np\n",
        "import matplotlib.pyplot as plt\n",
        "\n",
        "def _visualize_attn_single_modelC(\n",
        "    model, ex, stoi, itos, max_p, max_h, device,\n",
        "    unk_token='UNK', pad_token='PAD',\n",
        "    save_path=\"attn_example.png\", show=False\n",
        "):\n",
        "    # same renderer as Cell 12, minimal inline version\n",
        "    unk_id = stoi.get(unk_token, 0)\n",
        "    pad_id = stoi.get(pad_token, 0)\n",
        "\n",
        "    p_ids = [stoi.get(t, unk_id) for t in simple_tok(ex[\"premise\"])]\n",
        "    h_ids = [stoi.get(t, unk_id) for t in simple_tok(ex[\"hypothesis\"])]\n",
        "    P = torch.tensor([pad_to_len(p_ids, max_p, pad_id)], dtype=torch.long, device=device)\n",
        "    H = torch.tensor([pad_to_len(h_ids, max_h, pad_id)], dtype=torch.long, device=device)\n",
        "\n",
        "    model.eval()\n",
        "    with torch.no_grad():\n",
        "        logits, attn = model(P, H, return_attn=True)\n",
        "        pred = int(logits.argmax(1).item())\n",
        "\n",
        "    def decode(ids):\n",
        "        toks = [itos.get(i, unk_token) for i in ids]\n",
        "        try:\n",
        "            cut = toks.index(pad_token); toks = toks[:cut]\n",
        "        except ValueError:\n",
        "            pass\n",
        "        return toks\n",
        "\n",
        "    p_toks = decode(P[0].tolist())\n",
        "    h_toks = decode(H[0].tolist())\n",
        "    A = attn[0].detach().cpu().numpy()[:len(p_toks), :len(h_toks)]\n",
        "\n",
        "    fig_w = min(14, 0.5 * len(h_toks) + 4)\n",
        "    fig_h = min(12, 0.5 * len(p_toks) + 4)\n",
        "    plt.figure(figsize=(fig_w, fig_h))\n",
        "    im = plt.imshow(A, aspect='auto', cmap='viridis')\n",
        "    plt.colorbar(im, fraction=0.020)\n",
        "    plt.yticks(range(len(p_toks)), p_toks, fontsize=9)\n",
        "    plt.xticks(range(len(h_toks)), h_toks, rotation=90, fontsize=9)\n",
        "    title = f\"Attention P->H | pred={pred} (0=neutral, 1=entails)\"\n",
        "    if \"label\" in ex:\n",
        "        title += f\" | gold={encode_label(ex['label'])}\"\n",
        "    plt.title(title)\n",
        "    plt.tight_layout()\n",
        "    if save_path: plt.savefig(save_path, dpi=300, bbox_inches='tight')\n",
        "    if show: plt.show()\n",
        "    else: plt.close()\n",
        "\n",
        "def pick_first_success_failure_indices(model, raw, stoi, itos, device, max_p, max_h,\n",
        "                                       unk_token='UNK', pad_token='PAD'):\n",
        "    model.eval()\n",
        "    preds = []\n",
        "    unk_id = stoi.get(unk_token, 0)\n",
        "    pad_id = stoi.get(pad_token, 0)\n",
        "    with torch.no_grad():\n",
        "        for ex in raw:\n",
        "            p_ids = [stoi.get(t, unk_id) for t in simple_tok(ex[\"premise\"])]\n",
        "            h_ids = [stoi.get(t, unk_id) for t in simple_tok(ex[\"hypothesis\"])]\n",
        "            P = torch.tensor([pad_to_len(p_ids, max_p, pad_id)], dtype=torch.long, device=device)\n",
        "            H = torch.tensor([pad_to_len(h_ids, max_h, pad_id)], dtype=torch.long, device=device)\n",
        "            logits = model(P, H)\n",
        "            preds.append(int(logits.argmax(1).item()))\n",
        "    y = np.array([encode_label(ex[\"label\"]) for ex in raw])\n",
        "    preds = np.array(preds)\n",
        "    ok_idx  = np.where(preds == y)[0].tolist()\n",
        "    bad_idx = np.where(preds != y)[0].tolist()\n",
        "    return (ok_idx[0] if ok_idx else None), (bad_idx[0] if bad_idx else None)\n",
        "\n",
        "ok_idx, bad_idx = pick_first_success_failure_indices(\n",
        "    modelC, test_raw, stoi, itos, DEVICE, MAX_P, MAX_H\n",
        ")\n",
        "\n",
        "if ok_idx is not None:\n",
        "    _visualize_attn_single_modelC(\n",
        "        modelC, test_raw[ok_idx], stoi, itos, MAX_P, MAX_H, DEVICE,\n",
        "        save_path=\"attn_success.png\", show=False\n",
        "    )\n",
        "\n",
        "if bad_idx is not None:\n",
        "    _visualize_attn_single_modelC(\n",
        "        modelC, test_raw[bad_idx], stoi, itos, MAX_P, MAX_H, DEVICE,\n",
        "        save_path=\"attn_failure.png\", show=False\n",
        "    )\n"
      ]
    },
    {
      "cell_type": "code",
      "execution_count": null,
      "metadata": {
        "id": "5jXjuivxO5jp",
        "colab": {
          "base_uri": "https://localhost:8080/"
        },
        "outputId": "fb852db4-683a-47b6-c14e-d1c30fbd2318"
      },
      "outputs": [
        {
          "output_type": "stream",
          "name": "stdout",
          "text": [
            "| attn_type | cross_attn | Val | Test |\n",
            "|-----------|------------|-----|------|\n",
            "| dot | True | 0.7822 | 0.7596 |\n",
            "| dot | False | 0.7431 | 0.754 |\n",
            "| add | True | 0.773 | 0.7469 |\n",
            "| add | False | 0.7255 | 0.7418 |\n",
            "Saved -> /content/attn_ablation_table.json\n"
          ]
        }
      ],
      "source": [
        "# ==== Cell 16: Auto-generate attention ablation table (no manual input) ====\n",
        "import json, numpy as np, random, torch\n",
        "\n",
        "def print_md_table(rows, header):\n",
        "    print(\"| \" + \" | \".join(header) + \" |\")\n",
        "    print(\"|\" + \"|\".join([\"-\" * (len(h) + 2) for h in header]) + \"|\")\n",
        "    for r in rows:\n",
        "        print(\"| \" + \" | \".join(str(x) for x in r) + \" |\")\n",
        "\n",
        "def run_attn_variant(attn_type, use_cross_attn):\n",
        "    m = ESIMClassifier(vocab_size=vocab_size, emb_dim=EMB_DIM, hid=HID,\n",
        "                       emb_matrix=emb_matrix, dropout=0.3, num_classes=2,\n",
        "                       attn_type=attn_type, use_cross_attn=use_cross_attn).to(DEVICE)\n",
        "    torch.manual_seed(4012); np.random.seed(4012); random.seed(4012)\n",
        "    _, val, _ = fit(m, train_loader, valid_loader, epochs=EPOCHS, lr=LR,\n",
        "                    weight_decay=WEIGHT_DECAY, patience=PATIENCE,\n",
        "                    class_weights=None, label_smooth=0.0)\n",
        "    acc, _, _ = evaluate_with_preds(m, test_loader)\n",
        "    return round(val, 4), round(acc, 4)\n",
        "\n",
        "def collect_attn_rows():\n",
        "    if 'rows' in globals() and isinstance(rows, list) and len(rows) == 4:\n",
        "        try:\n",
        "            return [(str(t), bool(flag), float(v), float(a)) for (t, flag, v, a) in rows]\n",
        "        except Exception:\n",
        "            pass\n",
        "    results = []\n",
        "    for t in ['dot', 'add']:\n",
        "        for flag in [True, False]:\n",
        "            v, a = run_attn_variant(t, flag)\n",
        "            results.append((t, flag, v, a))\n",
        "    return results\n",
        "\n",
        "attn_rows = collect_attn_rows()\n",
        "print_md_table(attn_rows, [\"attn_type\", \"cross_attn\", \"Val\", \"Test\"])\n",
        "\n",
        "save_path = \"/content/attn_ablation_table.json\"\n",
        "with open(save_path, \"w\", encoding=\"utf-8\") as f:\n",
        "    json.dump(\n",
        "        [{\"attn_type\": t, \"cross_attn\": c, \"val\": v, \"test\": a} for (t, c, v, a) in attn_rows],\n",
        "        f, indent=2\n",
        "    )\n",
        "print(f\"Saved -> {save_path}\")\n"
      ]
    },
    {
      "cell_type": "code",
      "execution_count": null,
      "metadata": {
        "id": "HV9rIEuSO6sA",
        "colab": {
          "base_uri": "https://localhost:8080/"
        },
        "outputId": "7b551649-64bc-450f-db4d-529b2362f877"
      },
      "outputs": [
        {
          "output_type": "stream",
          "name": "stdout",
          "text": [
            "TEST ACC (Model B): 0.738\n",
            "Confusion matrix (B):\n",
            " [[1043  241]\n",
            " [ 316  526]]\n",
            "Macro-P/R/F1 (B): 0.7266 0.7185 0.7215\n"
          ]
        },
        {
          "output_type": "stream",
          "name": "stderr",
          "text": [
            "/usr/local/lib/python3.12/dist-packages/torch/functional.py:422: UserWarning: Deterministic behavior was enabled with either `torch.use_deterministic_algorithms(True)` or `at::Context::setDeterministicAlgorithms(true)`, but this operation is not deterministic because it uses CuBLAS and you have CUDA >= 10.2. To enable deterministic behavior in this case, you must set an environment variable before running your PyTorch application: CUBLAS_WORKSPACE_CONFIG=:4096:8 or CUBLAS_WORKSPACE_CONFIG=:16:8. For more information, go to https://docs.nvidia.com/cuda/cublas/index.html#results-reproducibility (Triggered internally at /pytorch/aten/src/ATen/Context.cpp:233.)\n",
            "  return _VF.einsum(equation, operands)  # type: ignore[attr-defined]\n",
            "/tmp/ipython-input-3648102403.py:62: UserWarning: Deterministic behavior was enabled with either `torch.use_deterministic_algorithms(True)` or `at::Context::setDeterministicAlgorithms(true)`, but this operation is not deterministic because it uses CuBLAS and you have CUDA >= 10.2. To enable deterministic behavior in this case, you must set an environment variable before running your PyTorch application: CUBLAS_WORKSPACE_CONFIG=:4096:8 or CUBLAS_WORKSPACE_CONFIG=:16:8. For more information, go to https://docs.nvidia.com/cuda/cublas/index.html#results-reproducibility (Triggered internally at /pytorch/aten/src/ATen/Context.cpp:233.)\n",
            "  return torch.bmm(pm.unsqueeze(2), hm.unsqueeze(1))  # (B, Lp, Lh)\n"
          ]
        }
      ],
      "source": [
        "# ==== Cell 19: Test Model B (single source of truth) ====\n",
        "accB, y_trueB, y_predB = evaluate_with_preds(modelB, test_loader)\n",
        "print(\"TEST ACC (Model B):\", round(accB, 4))\n",
        "\n",
        "cmB = np.zeros((2,2), dtype=int)\n",
        "for t,p in zip(y_trueB, y_predB): cmB[t,p]+=1\n",
        "print(\"Confusion matrix (B):\\n\", cmB)\n",
        "\n",
        "prec, rec, f1 = [], [], []\n",
        "for c in [0,1]:\n",
        "    tp = cmB[c,c]; fp = cmB[:,c].sum()-tp; fn = cmB[c,:].sum()-tp\n",
        "    p = tp/(tp+fp+1e-12); r = tp/(tp+fn+1e-12)\n",
        "    prec.append(p); rec.append(r); f1.append(2*p*r/(p+r+1e-12))\n",
        "print(\"Macro-P/R/F1 (B):\", round(np.mean(prec),4), round(np.mean(rec),4), round(np.mean(f1),4))\n"
      ]
    },
    {
      "cell_type": "code",
      "execution_count": null,
      "metadata": {
        "id": "1QfbmI-1O78I",
        "colab": {
          "base_uri": "https://localhost:8080/",
          "height": 1000
        },
        "outputId": "82614dad-8462-4fa3-c4f1-8c14fbcfaa3a"
      },
      "outputs": [
        {
          "output_type": "stream",
          "name": "stderr",
          "text": [
            "/tmp/ipython-input-3648102403.py:62: UserWarning: Deterministic behavior was enabled with either `torch.use_deterministic_algorithms(True)` or `at::Context::setDeterministicAlgorithms(true)`, but this operation is not deterministic because it uses CuBLAS and you have CUDA >= 10.2. To enable deterministic behavior in this case, you must set an environment variable before running your PyTorch application: CUBLAS_WORKSPACE_CONFIG=:4096:8 or CUBLAS_WORKSPACE_CONFIG=:16:8. For more information, go to https://docs.nvidia.com/cuda/cublas/index.html#results-reproducibility (Triggered internally at /pytorch/aten/src/ATen/Context.cpp:233.)\n",
            "  return torch.bmm(pm.unsqueeze(2), hm.unsqueeze(1))  # (B, Lp, Lh)\n"
          ]
        },
        {
          "output_type": "display_data",
          "data": {
            "text/plain": [
              "<Figure size 1400x1200 with 2 Axes>"
            ],
            "image/png": "[encoded data removed]"
          },
          "metadata": {}
        }
      ],
      "source": [
        "# ==== Cell 20: Similarity heatmap for Model B ====\n",
        "import torch\n",
        "import numpy as np\n",
        "import matplotlib.pyplot as plt\n",
        "\n",
        "def visualize_similarity_map_modelB(\n",
        "    model, ex, stoi, itos,\n",
        "    channel=0, max_p=MAX_P, max_h=MAX_H, device=DEVICE,\n",
        "    unk_token='UNK', pad_token='PAD',\n",
        "    save_path=\"simmap_b.png\", show=True, cmap='viridis'\n",
        "):\n",
        "    \"\"\"\n",
        "    Render one similarity channel from Model B.\n",
        "    Assumes: model(P, H, return_maps=True) -> (logits, S[B, C, Lp, Lh])\n",
        "    \"\"\"\n",
        "    unk_id = stoi.get(unk_token, 0)\n",
        "    pad_id = stoi.get(pad_token, 0)\n",
        "\n",
        "    p_ids = [stoi.get(t, unk_id) for t in simple_tok(ex[\"premise\"])]\n",
        "    h_ids = [stoi.get(t, unk_id) for t in simple_tok(ex[\"hypothesis\"])]\n",
        "    P = torch.tensor([pad_to_len(p_ids, max_p, pad_id)], dtype=torch.long, device=device)\n",
        "    H = torch.tensor([pad_to_len(h_ids, max_h, pad_id)], dtype=torch.long, device=device)\n",
        "\n",
        "    model.eval()\n",
        "    with torch.no_grad():\n",
        "        logits, S = model(P, H, return_maps=True)\n",
        "        pred = int(logits.argmax(1).item())\n",
        "\n",
        "    def decode(ids):\n",
        "        toks = [itos.get(i, unk_token) for i in ids]\n",
        "        try:\n",
        "            cut = toks.index(pad_token); toks = toks[:cut]\n",
        "        except ValueError:\n",
        "            pass\n",
        "        return toks\n",
        "\n",
        "    p_toks = decode(P[0].tolist())\n",
        "    h_toks = decode(H[0].tolist())\n",
        "    M = S[0, channel, :len(p_toks), :len(h_toks)].detach().cpu().numpy()\n",
        "\n",
        "    fig_w = min(14, 0.5 * len(h_toks) + 4)\n",
        "    fig_h = min(12, 0.5 * len(p_toks) + 4)\n",
        "    plt.figure(figsize=(fig_w, fig_h))\n",
        "    im = plt.imshow(M, aspect='auto', cmap=cmap)\n",
        "    plt.colorbar(im, fraction=0.020)\n",
        "    plt.yticks(range(len(p_toks)), p_toks, fontsize=9)\n",
        "    plt.xticks(range(len(h_toks)), h_toks, rotation=90, fontsize=9)\n",
        "    plt.title(f\"Model B similarity map (ch={channel}) | pred={pred} (0=neutral,1=entails)\")\n",
        "    plt.tight_layout()\n",
        "\n",
        "    if save_path:\n",
        "        plt.savefig(save_path, dpi=300, bbox_inches='tight')\n",
        "    if show:\n",
        "        plt.show()\n",
        "    else:\n",
        "        plt.close()\n",
        "\n",
        "# Example call:\n",
        "visualize_similarity_map_modelB(\n",
        "    modelB, test_raw[0], stoi, itos, channel=0,\n",
        "    save_path=\"simmap_b.png\", show=True\n",
        ")\n"
      ]
    },
    {
      "cell_type": "code",
      "execution_count": null,
      "metadata": {
        "id": "iBfVlfu0O9Ff",
        "colab": {
          "base_uri": "https://localhost:8080/"
        },
        "outputId": "363e60a2-8306-4fad-8054-9ce5dcbccef9"
      },
      "outputs": [
        {
          "output_type": "stream",
          "name": "stderr",
          "text": [
            "/usr/local/lib/python3.12/dist-packages/torch/functional.py:422: UserWarning: Deterministic behavior was enabled with either `torch.use_deterministic_algorithms(True)` or `at::Context::setDeterministicAlgorithms(true)`, but this operation is not deterministic because it uses CuBLAS and you have CUDA >= 10.2. To enable deterministic behavior in this case, you must set an environment variable before running your PyTorch application: CUBLAS_WORKSPACE_CONFIG=:4096:8 or CUBLAS_WORKSPACE_CONFIG=:16:8. For more information, go to https://docs.nvidia.com/cuda/cublas/index.html#results-reproducibility (Triggered internally at /pytorch/aten/src/ATen/Context.cpp:233.)\n",
            "  return _VF.einsum(equation, operands)  # type: ignore[attr-defined]\n",
            "/tmp/ipython-input-3648102403.py:62: UserWarning: Deterministic behavior was enabled with either `torch.use_deterministic_algorithms(True)` or `at::Context::setDeterministicAlgorithms(true)`, but this operation is not deterministic because it uses CuBLAS and you have CUDA >= 10.2. To enable deterministic behavior in this case, you must set an environment variable before running your PyTorch application: CUBLAS_WORKSPACE_CONFIG=:4096:8 or CUBLAS_WORKSPACE_CONFIG=:16:8. For more information, go to https://docs.nvidia.com/cuda/cublas/index.html#results-reproducibility (Triggered internally at /pytorch/aten/src/ATen/Context.cpp:233.)\n",
            "  return torch.bmm(pm.unsqueeze(2), hm.unsqueeze(1))  # (B, Lp, Lh)\n",
            "/usr/local/lib/python3.12/dist-packages/torch/autograd/graph.py:829: UserWarning: Deterministic behavior was enabled with either `torch.use_deterministic_algorithms(True)` or `at::Context::setDeterministicAlgorithms(true)`, but this operation is not deterministic because it uses CuBLAS and you have CUDA >= 10.2. To enable deterministic behavior in this case, you must set an environment variable before running your PyTorch application: CUBLAS_WORKSPACE_CONFIG=:4096:8 or CUBLAS_WORKSPACE_CONFIG=:16:8. For more information, go to https://docs.nvidia.com/cuda/cublas/index.html#results-reproducibility (Triggered internally at /pytorch/aten/src/ATen/Context.cpp:233.)\n",
            "  return Variable._execution_engine.run_backward(  # Calls into the C++ engine to run the backward pass\n",
            "/usr/local/lib/python3.12/dist-packages/torch/autograd/graph.py:829: UserWarning: adaptive_max_pool2d_backward_cuda does not have a deterministic implementation, but you set 'torch.use_deterministic_algorithms(True, warn_only=True)'. You can file an issue at https://github.com/pytorch/pytorch/issues to help us prioritize adding deterministic support for this operation. (Triggered internally at /pytorch/aten/src/ATen/Context.cpp:93.)\n",
            "  return Variable._execution_engine.run_backward(  # Calls into the C++ engine to run the backward pass\n"
          ]
        },
        {
          "output_type": "stream",
          "name": "stdout",
          "text": [
            "[Ep 01] train loss 0.6599 acc 0.7098 | valid loss 0.5607 acc 0.7178\n",
            "[Ep 02] train loss 0.3971 acc 0.8247 | valid loss 0.5780 acc 0.7155\n",
            "[Ep 03] train loss 0.3134 acc 0.8682 | valid loss 0.6473 acc 0.7285\n",
            "[Ep 04] train loss 0.2513 acc 0.8963 | valid loss 0.7829 acc 0.7101\n",
            "[Ep 05] train loss 0.2043 acc 0.9190 | valid loss 0.8104 acc 0.7147\n",
            "[Ep 06] train loss 0.1593 acc 0.9378 | valid loss 0.9203 acc 0.7216\n",
            "[Ep 07] train loss 0.1215 acc 0.9542 | valid loss 1.0654 acc 0.7262\n",
            "[Ep 08] train loss 0.1001 acc 0.9618 | valid loss 1.4265 acc 0.7101\n",
            "Early stopping.\n",
            "cos+dot=False -> VAL=0.7285 TEST=0.7437\n",
            "[Ep 01] train loss 0.6512 acc 0.7159 | valid loss 0.6133 acc 0.7124\n",
            "[Ep 02] train loss 0.4129 acc 0.8218 | valid loss 0.5987 acc 0.7086\n",
            "[Ep 03] train loss 0.3338 acc 0.8614 | valid loss 0.5346 acc 0.7285\n",
            "[Ep 04] train loss 0.2728 acc 0.8926 | valid loss 0.6841 acc 0.7117\n",
            "[Ep 05] train loss 0.2195 acc 0.9145 | valid loss 0.6765 acc 0.7316\n",
            "[Ep 06] train loss 0.1761 acc 0.9312 | valid loss 0.7923 acc 0.7385\n",
            "[Ep 07] train loss 0.1373 acc 0.9473 | valid loss 0.9965 acc 0.7155\n",
            "[Ep 08] train loss 0.1047 acc 0.9620 | valid loss 1.0927 acc 0.7354\n",
            "[Ep 09] train loss 0.0922 acc 0.9670 | valid loss 1.0165 acc 0.7339\n",
            "[Ep 10] train loss 0.0733 acc 0.9740 | valid loss 1.9137 acc 0.6979\n",
            "[Ep 11] train loss 0.0587 acc 0.9790 | valid loss 1.3933 acc 0.7278\n",
            "Early stopping.\n",
            "cos+dot=True -> VAL=0.7385 TEST=0.7639\n"
          ]
        },
        {
          "output_type": "execute_result",
          "data": {
            "text/plain": [
              "(0.7384969332466828, np.float64(0.7638758231420508))"
            ]
          },
          "metadata": {},
          "execution_count": 21
        }
      ],
      "source": [
        "# ==== Cell 21: B ablation - cos-only vs cos+dot ====\n",
        "def quick_run_B(use_dot):\n",
        "    m = BiLSTM2DCNN(\n",
        "        vocab_size=len(stoi), emb_dim=EMB_DIM, hid=HID,\n",
        "        pad_idx=stoi[PAD], use_cos=True, use_dot=use_dot, use_bilinear=False,\n",
        "        num_filters=32, kernel_size=3, pool_out=16, dropout=0.3, standardize=True\n",
        "    ).to(DEVICE)\n",
        "    _, v, _ = fit(\n",
        "        m, train_loader, valid_loader,\n",
        "        epochs=EPOCHS, lr=LR, weight_decay=WEIGHT_DECAY, patience=PATIENCE,\n",
        "        class_weights=None, label_smooth=0.0\n",
        "    )\n",
        "    acc, _, _ = evaluate_with_preds(m, test_loader)\n",
        "    print(f\"cos+dot={use_dot} -> VAL={v:.4f} TEST={acc:.4f}\")\n",
        "    return v, acc\n",
        "\n",
        "quick_run_B(False)\n",
        "quick_run_B(True)\n"
      ]
    },
    {
      "cell_type": "code",
      "execution_count": null,
      "metadata": {
        "id": "esHco0XZO-Og",
        "colab": {
          "base_uri": "https://localhost:8080/"
        },
        "outputId": "53d39c0d-2e56-465b-d688-366ce0c70bb2"
      },
      "outputs": [
        {
          "output_type": "stream",
          "name": "stderr",
          "text": [
            "/tmp/ipython-input-3648102403.py:62: UserWarning: Deterministic behavior was enabled with either `torch.use_deterministic_algorithms(True)` or `at::Context::setDeterministicAlgorithms(true)`, but this operation is not deterministic because it uses CuBLAS and you have CUDA >= 10.2. To enable deterministic behavior in this case, you must set an environment variable before running your PyTorch application: CUBLAS_WORKSPACE_CONFIG=:4096:8 or CUBLAS_WORKSPACE_CONFIG=:16:8. For more information, go to https://docs.nvidia.com/cuda/cublas/index.html#results-reproducibility (Triggered internally at /pytorch/aten/src/ATen/Context.cpp:233.)\n",
            "  return torch.bmm(pm.unsqueeze(2), hm.unsqueeze(1))  # (B, Lp, Lh)\n"
          ]
        },
        {
          "output_type": "stream",
          "name": "stdout",
          "text": [
            "[Ep 01] train loss 0.6942 acc 0.6556 | valid loss 0.6541 acc 0.6311\n",
            "[Ep 02] train loss 0.4564 acc 0.7888 | valid loss 0.6022 acc 0.6963\n",
            "[Ep 03] train loss 0.3560 acc 0.8495 | valid loss 0.5776 acc 0.7032\n",
            "[Ep 04] train loss 0.2842 acc 0.8882 | valid loss 0.5923 acc 0.7385\n",
            "[Ep 05] train loss 0.2238 acc 0.9118 | valid loss 0.7105 acc 0.7278\n",
            "[Ep 06] train loss 0.1815 acc 0.9308 | valid loss 0.8133 acc 0.7201\n",
            "[Ep 07] train loss 0.1405 acc 0.9462 | valid loss 0.9281 acc 0.7293\n",
            "[Ep 08] train loss 0.1045 acc 0.9612 | valid loss 1.0024 acc 0.7209\n",
            "[Ep 09] train loss 0.0847 acc 0.9699 | valid loss 1.1715 acc 0.7255\n",
            "Early stopping.\n",
            "B-abl | kernel5      -> VAL=0.7385 TEST=0.7427\n",
            "[Ep 01] train loss 0.9190 acc 0.6982 | valid loss 0.6267 acc 0.6687\n",
            "[Ep 02] train loss 0.4177 acc 0.8128 | valid loss 0.6688 acc 0.6687\n",
            "[Ep 03] train loss 0.3421 acc 0.8556 | valid loss 0.6997 acc 0.7147\n",
            "[Ep 04] train loss 0.2792 acc 0.8867 | valid loss 0.7940 acc 0.6917\n",
            "[Ep 05] train loss 0.2293 acc 0.9090 | valid loss 0.8830 acc 0.6679\n",
            "[Ep 06] train loss 0.1868 acc 0.9264 | valid loss 1.0489 acc 0.7071\n",
            "[Ep 07] train loss 0.1554 acc 0.9405 | valid loss 1.1394 acc 0.6848\n",
            "[Ep 08] train loss 0.1194 acc 0.9546 | valid loss 1.2888 acc 0.7247\n",
            "[Ep 09] train loss 0.0962 acc 0.9651 | valid loss 1.1175 acc 0.7032\n",
            "[Ep 10] train loss 0.0790 acc 0.9717 | valid loss 1.4737 acc 0.7025\n",
            "[Ep 11] train loss 0.0628 acc 0.9776 | valid loss 2.0075 acc 0.6963\n",
            "[Ep 12] train loss 0.0548 acc 0.9817 | valid loss 1.8963 acc 0.6940\n",
            "[Ep 13] train loss 0.0503 acc 0.9832 | valid loss 1.8918 acc 0.6856\n",
            "Early stopping.\n",
            "B-abl | pool32       -> VAL=0.7247 TEST=0.7305\n",
            "[Ep 01] train loss 0.6794 acc 0.6859 | valid loss 0.6171 acc 0.6603\n",
            "[Ep 02] train loss 0.4201 acc 0.8073 | valid loss 0.6011 acc 0.6948\n",
            "[Ep 03] train loss 0.3314 acc 0.8626 | valid loss 0.5791 acc 0.7132\n",
            "[Ep 04] train loss 0.2703 acc 0.8889 | valid loss 0.6938 acc 0.7117\n",
            "[Ep 05] train loss 0.2128 acc 0.9161 | valid loss 0.8203 acc 0.7002\n",
            "[Ep 06] train loss 0.1636 acc 0.9367 | valid loss 0.9057 acc 0.6887\n",
            "[Ep 07] train loss 0.1350 acc 0.9494 | valid loss 0.9829 acc 0.7002\n",
            "[Ep 08] train loss 0.1067 acc 0.9608 | valid loss 1.1451 acc 0.7055\n",
            "Early stopping.\n",
            "B-abl | no_cnn       -> VAL=0.7132 TEST=0.7277\n"
          ]
        },
        {
          "output_type": "execute_result",
          "data": {
            "text/plain": [
              "(0.7131901844147525, np.float64(0.7276575729068674))"
            ]
          },
          "metadata": {},
          "execution_count": 22
        }
      ],
      "source": [
        "# ==== Cell 22: B ablation - k=5 / pool=32 / no_cnn ====\n",
        "def train_eval_B_variant(desc,\n",
        "                         use_cos=True, use_dot=False, use_bilinear=False,\n",
        "                         kernel_size=3, pool_out=16,\n",
        "                         num_filters=32, dropout=0.3):\n",
        "    m = BiLSTM2DCNN(\n",
        "        vocab_size=len(stoi), emb_dim=EMB_DIM, hid=HID, pad_idx=stoi[PAD],\n",
        "        use_cos=use_cos, use_dot=use_dot, use_bilinear=use_bilinear,\n",
        "        num_filters=num_filters, kernel_size=kernel_size, pool_out=pool_out,\n",
        "        dropout=dropout, standardize=True\n",
        "    ).to(DEVICE)\n",
        "    _, v, _ = fit(\n",
        "        m, train_loader, valid_loader,\n",
        "        epochs=EPOCHS, lr=LR, weight_decay=WEIGHT_DECAY, patience=PATIENCE,\n",
        "        class_weights=None, label_smooth=0.0\n",
        "    )\n",
        "    acc, _, _ = evaluate_with_preds(m, test_loader)\n",
        "    print(f\"B-abl | {desc:12s} -> VAL={v:.4f} TEST={acc:.4f}\")\n",
        "    return v, acc\n",
        "\n",
        "train_eval_B_variant(\"kernel5\", kernel_size=5)\n",
        "train_eval_B_variant(\"pool32\",  pool_out=32)\n",
        "train_eval_B_variant(\"no_cnn\",  use_cos=True, use_dot=False, num_filters=32)\n"
      ]
    },
    {
      "cell_type": "code",
      "execution_count": null,
      "metadata": {
        "id": "wP4Wy35LO_ki",
        "colab": {
          "base_uri": "https://localhost:8080/"
        },
        "outputId": "2fa2fffe-c7a5-4325-c48a-7762918d0520"
      },
      "outputs": [
        {
          "output_type": "stream",
          "name": "stdout",
          "text": [
            "[Ep 01] train loss 0.5385 acc 0.7228 | valid loss 0.5243 acc 0.7385\n",
            "[Ep 02] train loss 0.4180 acc 0.8104 | valid loss 0.4848 acc 0.7730\n",
            "[Ep 03] train loss 0.3462 acc 0.8494 | valid loss 0.4949 acc 0.7607\n",
            "[Ep 04] train loss 0.3048 acc 0.8701 | valid loss 0.5137 acc 0.7546\n",
            "[Ep 05] train loss 0.2712 acc 0.8881 | valid loss 0.4853 acc 0.7699\n",
            "[Ep 06] train loss 0.2462 acc 0.8981 | valid loss 0.4733 acc 0.7722\n",
            "[Ep 07] train loss 0.2216 acc 0.9077 | valid loss 0.4759 acc 0.7784\n",
            "[Ep 08] train loss 0.1956 acc 0.9210 | valid loss 0.5372 acc 0.7776\n",
            "[Ep 09] train loss 0.1792 acc 0.9270 | valid loss 0.5555 acc 0.7768\n",
            "[Ep 10] train loss 0.1612 acc 0.9356 | valid loss 0.5364 acc 0.7768\n",
            "[Ep 11] train loss 0.1392 acc 0.9446 | valid loss 0.5345 acc 0.7914\n",
            "[Ep 12] train loss 0.1303 acc 0.9489 | valid loss 0.5694 acc 0.7684\n",
            "[Ep 13] train loss 0.1118 acc 0.9576 | valid loss 0.5703 acc 0.7807\n",
            "[Ep 14] train loss 0.1064 acc 0.9578 | valid loss 0.6224 acc 0.7807\n",
            "[Ep 15] train loss 0.0900 acc 0.9663 | valid loss 0.6979 acc 0.7761\n",
            "[Ep 16] train loss 0.0850 acc 0.9670 | valid loss 0.6644 acc 0.7784\n",
            "Early stopping.\n",
            "[Ep 01] train loss 0.5413 acc 0.7206 | valid loss 0.5226 acc 0.7370\n",
            "[Ep 02] train loss 0.4168 acc 0.8089 | valid loss 0.4884 acc 0.7615\n",
            "[Ep 03] train loss 0.3487 acc 0.8476 | valid loss 0.4399 acc 0.7791\n",
            "[Ep 04] train loss 0.3038 acc 0.8691 | valid loss 0.4966 acc 0.7630\n",
            "[Ep 05] train loss 0.2723 acc 0.8859 | valid loss 0.4968 acc 0.7807\n",
            "[Ep 06] train loss 0.2470 acc 0.8995 | valid loss 0.4699 acc 0.7845\n",
            "[Ep 07] train loss 0.2150 acc 0.9127 | valid loss 0.5213 acc 0.7745\n",
            "[Ep 08] train loss 0.1958 acc 0.9215 | valid loss 0.5763 acc 0.7730\n",
            "[Ep 09] train loss 0.1762 acc 0.9296 | valid loss 0.5939 acc 0.7822\n",
            "[Ep 10] train loss 0.1554 acc 0.9393 | valid loss 0.5444 acc 0.7899\n",
            "[Ep 11] train loss 0.1378 acc 0.9447 | valid loss 0.5444 acc 0.7876\n",
            "[Ep 12] train loss 0.1254 acc 0.9503 | valid loss 0.5933 acc 0.7853\n",
            "[Ep 13] train loss 0.1173 acc 0.9543 | valid loss 0.6590 acc 0.7776\n",
            "[Ep 14] train loss 0.1076 acc 0.9593 | valid loss 0.7012 acc 0.7676\n",
            "[Ep 15] train loss 0.0926 acc 0.9634 | valid loss 0.7389 acc 0.7569\n",
            "Early stopping.\n",
            "[Ep 01] train loss 0.5403 acc 0.7206 | valid loss 0.5154 acc 0.7515\n",
            "[Ep 02] train loss 0.4164 acc 0.8083 | valid loss 0.4775 acc 0.7630\n",
            "[Ep 03] train loss 0.3471 acc 0.8474 | valid loss 0.4564 acc 0.7768\n",
            "[Ep 04] train loss 0.3048 acc 0.8672 | valid loss 0.4803 acc 0.7669\n",
            "[Ep 05] train loss 0.2758 acc 0.8843 | valid loss 0.4698 acc 0.7776\n",
            "[Ep 06] train loss 0.2506 acc 0.8956 | valid loss 0.4802 acc 0.7814\n",
            "[Ep 07] train loss 0.2241 acc 0.9064 | valid loss 0.4943 acc 0.7868\n",
            "[Ep 08] train loss 0.1979 acc 0.9188 | valid loss 0.5442 acc 0.7768\n",
            "[Ep 09] train loss 0.1792 acc 0.9287 | valid loss 0.5595 acc 0.7853\n",
            "[Ep 10] train loss 0.1601 acc 0.9346 | valid loss 0.5338 acc 0.7807\n",
            "[Ep 11] train loss 0.1452 acc 0.9438 | valid loss 0.5877 acc 0.7868\n",
            "[Ep 12] train loss 0.1312 acc 0.9489 | valid loss 0.6267 acc 0.7776\n",
            "Early stopping.\n",
            "| MAX_P/MAX_H | Val | Test |\n",
            "|-------------|-----|------|\n",
            "| 48/24 | 0.7914 | 0.7869 |\n",
            "| 64/32 | 0.7899 | 0.7817 |\n",
            "| 80/40 | 0.7868 | 0.7813 |\n",
            "Saved -> /content/a_seq_len_ablation.json\n"
          ]
        }
      ],
      "source": [
        "# ==== Cell 23: Sequence length ablation for Model A ====\n",
        "import numpy as np, random, torch\n",
        "from torch.utils.data import DataLoader\n",
        "\n",
        "def make_loaders_with_lengths(max_p, max_h, batch=BATCH):\n",
        "    def pad_to_len_local(ids, L, pad=0):\n",
        "        return ids[:L] + [pad] * max(0, L - len(ids))\n",
        "    def collate_len(batch):\n",
        "        Ps, Hs, Ys = [], [], []\n",
        "        for p, h, y in batch:\n",
        "            Ps.append(pad_to_len_local(p, max_p))\n",
        "            Hs.append(pad_to_len_local(h, max_h))\n",
        "            Ys.append(y if y is not None else -1)\n",
        "        return (torch.tensor(Ps, dtype=torch.long),\n",
        "                torch.tensor(Hs, dtype=torch.long),\n",
        "                torch.tensor(Ys, dtype=torch.long))\n",
        "    g2 = torch.Generator(); g2.manual_seed(SEED)\n",
        "    tr = DataLoader(train_ds, batch_size=batch, shuffle=True,  collate_fn=collate_len,\n",
        "                    num_workers=0, generator=g2)\n",
        "    va = DataLoader(valid_ds, batch_size=batch, shuffle=False, collate_fn=collate_len,\n",
        "                    num_workers=0)\n",
        "    te = DataLoader(test_ds,  batch_size=batch, shuffle=False, collate_fn=collate_len,\n",
        "                    num_workers=0)\n",
        "    return tr, va, te\n",
        "\n",
        "def print_md_table(rows, header):\n",
        "    print(\"| \" + \" | \".join(header) + \" |\")\n",
        "    print(\"|\" + \"|\".join([\"-\" * (len(h)+2) for h in header]) + \"|\")\n",
        "    for r in rows:\n",
        "        print(\"| \" + \" | \".join(str(x) for x in r) + \" |\")\n",
        "\n",
        "def run_len_ablation_A():\n",
        "    variants = [(48,24), (64,32), (80,40)]\n",
        "    out = []\n",
        "    for mp, mh in variants:\n",
        "        torch.manual_seed(SEED); np.random.seed(SEED); random.seed(SEED)\n",
        "        tr, va, te = make_loaders_with_lengths(mp, mh)\n",
        "        m = SiameseBiLSTM(vocab_size=vocab_size, emb_dim=EMB_DIM, hid=HID,\n",
        "                          emb_matrix=emb_matrix, dropout=0.3, pool_mode='concat').to(DEVICE)\n",
        "        _, v, _ = fit(m, tr, va, epochs=EPOCHS, lr=LR, weight_decay=WEIGHT_DECAY,\n",
        "                      patience=PATIENCE, class_weights=None, label_smooth=0.0)\n",
        "        acc, _, _ = evaluate_with_preds(m, te)\n",
        "        out.append((f\"{mp}/{mh}\", round(v,4), round(acc,4)))\n",
        "    print_md_table(out, [\"MAX_P/MAX_H\", \"Val\", \"Test\"])\n",
        "    import json\n",
        "    with open(\"/content/a_seq_len_ablation.json\",\"w\") as f:\n",
        "        json.dump([{\"max_p_h\": nm, \"val\": v, \"test\": t} for nm, v, t in out], f, indent=2)\n",
        "    print(\"Saved -> /content/a_seq_len_ablation.json\")\n",
        "\n",
        "run_len_ablation_A()\n"
      ]
    },
    {
      "cell_type": "code",
      "execution_count": null,
      "metadata": {
        "id": "6YQtJ9TUPBAm",
        "colab": {
          "base_uri": "https://localhost:8080/"
        },
        "outputId": "7bdce612-ec7b-4a1f-de38-3137fdd7c8db"
      },
      "outputs": [
        {
          "output_type": "stream",
          "name": "stdout",
          "text": [
            "[Ep 01] train loss 0.5660 acc 0.7028 | valid loss 0.5385 acc 0.7224\n",
            "[Ep 02] train loss 0.4571 acc 0.7858 | valid loss 0.5358 acc 0.7308\n",
            "[Ep 03] train loss 0.4069 acc 0.8157 | valid loss 0.5116 acc 0.7477\n",
            "[Ep 04] train loss 0.3684 acc 0.8368 | valid loss 0.5254 acc 0.7462\n",
            "[Ep 05] train loss 0.3360 acc 0.8544 | valid loss 0.5017 acc 0.7607\n",
            "[Ep 06] train loss 0.3205 acc 0.8614 | valid loss 0.5503 acc 0.7385\n",
            "[Ep 07] train loss 0.2952 acc 0.8742 | valid loss 0.6193 acc 0.7224\n",
            "[Ep 08] train loss 0.2817 acc 0.8802 | valid loss 0.5874 acc 0.7393\n",
            "[Ep 09] train loss 0.2675 acc 0.8879 | valid loss 0.5271 acc 0.7538\n",
            "[Ep 10] train loss 0.2553 acc 0.8926 | valid loss 0.5797 acc 0.7423\n",
            "Early stopping.\n",
            "[Ep 01] train loss 0.5480 acc 0.7137 | valid loss 0.5129 acc 0.7462\n",
            "[Ep 02] train loss 0.4155 acc 0.8102 | valid loss 0.4596 acc 0.7707\n",
            "[Ep 03] train loss 0.3508 acc 0.8458 | valid loss 0.4672 acc 0.7753\n",
            "[Ep 04] train loss 0.3137 acc 0.8675 | valid loss 0.4999 acc 0.7577\n",
            "[Ep 05] train loss 0.2882 acc 0.8786 | valid loss 0.5300 acc 0.7485\n",
            "[Ep 06] train loss 0.2635 acc 0.8912 | valid loss 0.5188 acc 0.7730\n",
            "[Ep 07] train loss 0.2342 acc 0.9028 | valid loss 0.5192 acc 0.7684\n",
            "[Ep 08] train loss 0.2110 acc 0.9122 | valid loss 0.5580 acc 0.7730\n",
            "Early stopping.\n",
            "[Ep 01] train loss 0.5417 acc 0.7218 | valid loss 0.5643 acc 0.7508\n",
            "[Ep 02] train loss 0.3935 acc 0.8274 | valid loss 0.5313 acc 0.7722\n",
            "[Ep 03] train loss 0.3346 acc 0.8582 | valid loss 0.5028 acc 0.7776\n",
            "[Ep 04] train loss 0.2853 acc 0.8822 | valid loss 0.5507 acc 0.7684\n",
            "[Ep 05] train loss 0.2447 acc 0.9006 | valid loss 0.5872 acc 0.7707\n",
            "[Ep 06] train loss 0.2170 acc 0.9120 | valid loss 0.5717 acc 0.7761\n",
            "[Ep 07] train loss 0.1865 acc 0.9257 | valid loss 0.5669 acc 0.7814\n",
            "[Ep 08] train loss 0.1598 acc 0.9388 | valid loss 0.6770 acc 0.7669\n",
            "[Ep 09] train loss 0.1401 acc 0.9457 | valid loss 0.6935 acc 0.7791\n",
            "[Ep 10] train loss 0.1164 acc 0.9552 | valid loss 0.6918 acc 0.7753\n",
            "[Ep 11] train loss 0.1043 acc 0.9611 | valid loss 0.7332 acc 0.7761\n",
            "[Ep 12] train loss 0.0870 acc 0.9682 | valid loss 0.7733 acc 0.7807\n",
            "Early stopping.\n",
            "[Ep 01] train loss 0.5686 acc 0.7013 | valid loss 0.5473 acc 0.7155\n",
            "[Ep 02] train loss 0.4556 acc 0.7873 | valid loss 0.5152 acc 0.7431\n",
            "[Ep 03] train loss 0.3947 acc 0.8212 | valid loss 0.5179 acc 0.7385\n",
            "[Ep 04] train loss 0.3553 acc 0.8427 | valid loss 0.5484 acc 0.7308\n",
            "[Ep 05] train loss 0.3288 acc 0.8578 | valid loss 0.5578 acc 0.7316\n",
            "[Ep 06] train loss 0.3055 acc 0.8685 | valid loss 0.5477 acc 0.7416\n",
            "[Ep 07] train loss 0.2843 acc 0.8793 | valid loss 0.5809 acc 0.7377\n",
            "Early stopping.\n",
            "[Ep 01] train loss 0.5457 acc 0.7179 | valid loss 0.4910 acc 0.7600\n",
            "[Ep 02] train loss 0.4159 acc 0.8087 | valid loss 0.4717 acc 0.7699\n",
            "[Ep 03] train loss 0.3509 acc 0.8462 | valid loss 0.4713 acc 0.7845\n",
            "[Ep 04] train loss 0.3011 acc 0.8731 | valid loss 0.5056 acc 0.7676\n",
            "[Ep 05] train loss 0.2752 acc 0.8848 | valid loss 0.4420 acc 0.7891\n",
            "[Ep 06] train loss 0.2462 acc 0.8973 | valid loss 0.4631 acc 0.7761\n",
            "[Ep 07] train loss 0.2186 acc 0.9126 | valid loss 0.5286 acc 0.7707\n",
            "[Ep 08] train loss 0.2000 acc 0.9183 | valid loss 0.4650 acc 0.7937\n",
            "[Ep 09] train loss 0.1769 acc 0.9293 | valid loss 0.5193 acc 0.7868\n",
            "[Ep 10] train loss 0.1552 acc 0.9385 | valid loss 0.6476 acc 0.7745\n",
            "[Ep 11] train loss 0.1426 acc 0.9445 | valid loss 0.5979 acc 0.7791\n",
            "[Ep 12] train loss 0.1278 acc 0.9517 | valid loss 0.6491 acc 0.7745\n",
            "[Ep 13] train loss 0.1138 acc 0.9562 | valid loss 0.6353 acc 0.7845\n",
            "Early stopping.\n",
            "[Ep 01] train loss 0.5211 acc 0.7380 | valid loss 0.4930 acc 0.7669\n",
            "[Ep 02] train loss 0.3780 acc 0.8342 | valid loss 0.5350 acc 0.7669\n",
            "[Ep 03] train loss 0.3190 acc 0.8641 | valid loss 0.4638 acc 0.7906\n",
            "[Ep 04] train loss 0.2600 acc 0.8932 | valid loss 0.5579 acc 0.7738\n",
            "[Ep 05] train loss 0.2284 acc 0.9074 | valid loss 0.4744 acc 0.7914\n",
            "[Ep 06] train loss 0.1870 acc 0.9279 | valid loss 0.5420 acc 0.7784\n",
            "[Ep 07] train loss 0.1556 acc 0.9408 | valid loss 0.5984 acc 0.7845\n",
            "[Ep 08] train loss 0.1330 acc 0.9494 | valid loss 0.6447 acc 0.7730\n",
            "[Ep 09] train loss 0.1084 acc 0.9583 | valid loss 0.7056 acc 0.7630\n",
            "[Ep 10] train loss 0.0950 acc 0.9639 | valid loss 0.7285 acc 0.7822\n",
            "Early stopping.\n",
            "[Ep 01] train loss 0.5654 acc 0.7027 | valid loss 0.5349 acc 0.7454\n",
            "[Ep 02] train loss 0.4571 acc 0.7843 | valid loss 0.5182 acc 0.7600\n",
            "[Ep 03] train loss 0.3996 acc 0.8205 | valid loss 0.4866 acc 0.7584\n",
            "[Ep 04] train loss 0.3535 acc 0.8454 | valid loss 0.5093 acc 0.7538\n",
            "[Ep 05] train loss 0.3257 acc 0.8602 | valid loss 0.5030 acc 0.7630\n",
            "[Ep 06] train loss 0.3005 acc 0.8716 | valid loss 0.5521 acc 0.7477\n",
            "[Ep 07] train loss 0.2830 acc 0.8813 | valid loss 0.5085 acc 0.7676\n",
            "[Ep 08] train loss 0.2650 acc 0.8891 | valid loss 0.4890 acc 0.7845\n",
            "[Ep 09] train loss 0.2426 acc 0.9003 | valid loss 0.5366 acc 0.7676\n",
            "[Ep 10] train loss 0.2277 acc 0.9064 | valid loss 0.5463 acc 0.7623\n",
            "[Ep 11] train loss 0.2205 acc 0.9090 | valid loss 0.6169 acc 0.7669\n",
            "[Ep 12] train loss 0.2021 acc 0.9203 | valid loss 0.6178 acc 0.7692\n",
            "[Ep 13] train loss 0.1877 acc 0.9244 | valid loss 0.5951 acc 0.7676\n",
            "Early stopping.\n",
            "[Ep 01] train loss 0.5433 acc 0.7171 | valid loss 0.6047 acc 0.7124\n",
            "[Ep 02] train loss 0.4135 acc 0.8130 | valid loss 0.4892 acc 0.7600\n",
            "[Ep 03] train loss 0.3443 acc 0.8513 | valid loss 0.4888 acc 0.7653\n",
            "[Ep 04] train loss 0.3013 acc 0.8744 | valid loss 0.4876 acc 0.7638\n",
            "[Ep 05] train loss 0.2697 acc 0.8877 | valid loss 0.5390 acc 0.7554\n",
            "[Ep 06] train loss 0.2376 acc 0.9015 | valid loss 0.4756 acc 0.7876\n",
            "[Ep 07] train loss 0.2075 acc 0.9154 | valid loss 0.5700 acc 0.7730\n",
            "[Ep 08] train loss 0.1886 acc 0.9251 | valid loss 0.5324 acc 0.7753\n",
            "[Ep 09] train loss 0.1650 acc 0.9339 | valid loss 0.5662 acc 0.7830\n",
            "[Ep 10] train loss 0.1455 acc 0.9445 | valid loss 0.5737 acc 0.7914\n",
            "[Ep 11] train loss 0.1294 acc 0.9494 | valid loss 0.5554 acc 0.7753\n",
            "[Ep 12] train loss 0.1198 acc 0.9543 | valid loss 0.7406 acc 0.7868\n",
            "[Ep 13] train loss 0.1071 acc 0.9596 | valid loss 0.7425 acc 0.7745\n",
            "[Ep 14] train loss 0.0922 acc 0.9646 | valid loss 0.7158 acc 0.7822\n",
            "[Ep 15] train loss 0.0922 acc 0.9644 | valid loss 0.7040 acc 0.7853\n",
            "Early stopping.\n",
            "[Ep 01] train loss 0.5257 acc 0.7328 | valid loss 0.4896 acc 0.7730\n",
            "[Ep 02] train loss 0.3778 acc 0.8339 | valid loss 0.4506 acc 0.7960\n",
            "[Ep 03] train loss 0.3119 acc 0.8719 | valid loss 0.6044 acc 0.7454\n",
            "[Ep 04] train loss 0.2619 acc 0.8959 | valid loss 0.4569 acc 0.8029\n",
            "[Ep 05] train loss 0.2197 acc 0.9130 | valid loss 0.4624 acc 0.7983\n",
            "[Ep 06] train loss 0.1800 acc 0.9313 | valid loss 0.5361 acc 0.7830\n",
            "[Ep 07] train loss 0.1475 acc 0.9414 | valid loss 0.5370 acc 0.7968\n",
            "[Ep 08] train loss 0.1244 acc 0.9530 | valid loss 0.6495 acc 0.7929\n",
            "[Ep 09] train loss 0.1056 acc 0.9609 | valid loss 0.6884 acc 0.7830\n",
            "Early stopping.\n",
            "| Hid | Emb | Val  | Test |\n",
            "|-----|-----|------|------|\n",
            "|  96 |  50 | 0.7607 | 0.7451 |\n",
            "|  96 | 100 | 0.7753 | 0.7587 |\n",
            "|  96 | 200 | 0.7814 | 0.7634 |\n",
            "| 128 |  50 | 0.7431 | 0.7451 |\n",
            "| 128 | 100 | 0.7937 | 0.7728 |\n",
            "| 128 | 200 | 0.7914 | 0.7582 |\n",
            "| 160 |  50 | 0.7845 | 0.7615 |\n",
            "| 160 | 100 | 0.7914 | 0.7813 |\n",
            "| 160 | 200 | 0.8029 | 0.7700 |\n",
            "Saved -> /content/a_hid_emb_sweep.json\n"
          ]
        }
      ],
      "source": [
        "# ==== Cell 24: Hidden/Embedding sweep on Model A ====\n",
        "import numpy as np, random, torch\n",
        "\n",
        "def run_A_hid_emb_sweep(h_list=(96,128,160), emb_list=(50,100,200)):\n",
        "    rows = []\n",
        "    for h in h_list:\n",
        "        for e in emb_list:\n",
        "            torch.manual_seed(SEED); np.random.seed(SEED); random.seed(SEED)\n",
        "            m = SiameseBiLSTM(vocab_size=vocab_size, emb_dim=e, hid=h,\n",
        "                              emb_matrix=None, dropout=0.3, pool_mode='concat').to(DEVICE)\n",
        "            _, v, _ = fit(m, train_loader, valid_loader, epochs=EPOCHS, lr=LR,\n",
        "                          weight_decay=WEIGHT_DECAY, patience=PATIENCE,\n",
        "                          class_weights=None, label_smooth=0.0)\n",
        "            acc, _, _ = evaluate_with_preds(m, test_loader)\n",
        "            rows.append((h, e, round(v,4), round(acc,4)))\n",
        "    print(\"| Hid | Emb | Val  | Test |\")\n",
        "    print(\"|-----|-----|------|------|\")\n",
        "    for h,e,v,t in rows:\n",
        "        print(f\"| {h:3d} | {e:3d} | {v:0.4f} | {t:0.4f} |\")\n",
        "    import json\n",
        "    with open(\"/content/a_hid_emb_sweep.json\",\"w\") as f:\n",
        "        json.dump([{\"hid\":h,\"emb\":e,\"val\":v,\"test\":t} for h,e,v,t in rows], f, indent=2)\n",
        "    print(\"Saved -> /content/a_hid_emb_sweep.json\")\n",
        "\n",
        "run_A_hid_emb_sweep()\n"
      ]
    },
    {
      "cell_type": "code",
      "execution_count": null,
      "metadata": {
        "id": "3BkKtyhfPCOB",
        "colab": {
          "base_uri": "https://localhost:8080/"
        },
        "outputId": "2effcac8-e35c-4a31-dcbf-ff8e31592c1e"
      },
      "outputs": [
        {
          "output_type": "stream",
          "name": "stdout",
          "text": [
            "Main runs (best val acc): {'model': 'A', 'val': 0.7898773013448422, 'ckpt': '/content/modelA_best.pt'} {'model': 'B', 'val': 0.7269938653963475, 'ckpt': '/content/modelB_best.pt'} {'model': 'C', 'val': 0.7607361963190185, 'ckpt': '/content/modelC_best.pt'}\n",
            "\n",
            "Artifacts saved:\n",
            "   /content/attn_ablation_table.json -> True\n",
            "   /content/c_additional_ablation.json -> True\n",
            "   /content/a_seq_len_ablation.json -> True\n",
            "   /content/a_hid_emb_sweep.json -> True\n"
          ]
        }
      ],
      "source": [
        "# ==== Cell 25 (NEW): Consolidated summary (reads JSONs if exist) ====\n",
        "import os, json\n",
        "\n",
        "def load_json_if(path, fallback=None):\n",
        "    return json.load(open(path)) if os.path.exists(path) else fallback\n",
        "\n",
        "sum_A = {\"model\":\"A\",\"val\": float(best_val), \"ckpt\": \"/content/modelA_best.pt\"}\n",
        "sum_B = {\"model\":\"B\",\"val\": float(best_valB),\"ckpt\": \"/content/modelB_best.pt\"}\n",
        "sum_C = {\"model\":\"C\",\"val\": float(best_valC),\"ckpt\": \"/content/modelC_best.pt\"}\n",
        "\n",
        "print(\"Main runs (best val acc):\", sum_A, sum_B, sum_C)\n",
        "\n",
        "print(\"\\nArtifacts saved:\")\n",
        "for p in [\"/content/attn_ablation_table.json\",\n",
        "          \"/content/c_additional_ablation.json\",\n",
        "          \"/content/a_seq_len_ablation.json\",\n",
        "          \"/content/a_hid_emb_sweep.json\"]:\n",
        "    print(\"  \", p, \"->\", os.path.exists(p))\n"
      ]
    },
    {
      "cell_type": "code",
      "source": [
        "# ==== Cell 26: Download rendered figures from Colab ====\n",
        "import os\n",
        "from google.colab import files\n",
        "\n",
        "to_get = [\n",
        "    \"attn_single_c.png\",\n",
        "    \"attn_success.png\",\n",
        "    \"attn_failure.png\",\n",
        "    \"simmap_b.png\",\n",
        "]\n",
        "for name in to_get:\n",
        "    if os.path.exists(name):\n",
        "        files.download(name)\n",
        "\n",
        "# Alternatively, zip them into one file:\n",
        "!zip -r figs_colab.zip attn_single_c.png attn_success.png attn_failure.png simmap_b.png\n",
        "files.download(\"figs_colab.zip\")\n"
      ],
      "metadata": {
        "colab": {
          "base_uri": "https://localhost:8080/",
          "height": 17
        },
        "id": "ccniGFbC-Zmm",
        "outputId": "b82529f9-d964-4c64-c25f-d8368ac4538c"
      },
      "execution_count": null,
      "outputs": [
        {
          "output_type": "display_data",
          "data": {
            "text/plain": [
              "<IPython.core.display.Javascript object>"
            ],
            "application/javascript": [
              "\n",
              "    async function download(id, filename, size) {\n",
              "      if (!google.colab.kernel.accessAllowed) {\n",
              "        return;\n",
              "      }\n",
              "      const div = document.createElement('div');\n",
              "      const label = document.createElement('label');\n",
              "      label.textContent = `Downloading \"${filename}\": `;\n",
              "      div.appendChild(label);\n",
              "      const progress = document.createElement('progress');\n",
              "      progress.max = size;\n",
              "      div.appendChild(progress);\n",
              "      document.body.appendChild(div);\n",
              "\n",
              "      const buffers = [];\n",
              "      let downloaded = 0;\n",
              "\n",
              "      const channel = await google.colab.kernel.comms.open(id);\n",
              "      // Send a message to notify the kernel that we're ready.\n",
              "      channel.send({})\n",
              "\n",
              "      for await (const message of channel.messages) {\n",
              "        // Send a message to notify the kernel that we're ready.\n",
              "        channel.send({})\n",
              "        if (message.buffers) {\n",
              "          for (const buffer of message.buffers) {\n",
              "            buffers.push(buffer);\n",
              "            downloaded += buffer.byteLength;\n",
              "            progress.value = downloaded;\n",
              "          }\n",
              "        }\n",
              "      }\n",
              "      const blob = new Blob(buffers, {type: 'application/binary'});\n",
              "      const a = document.createElement('a');\n",
              "      a.href = window.URL.createObjectURL(blob);\n",
              "      a.download = filename;\n",
              "      div.appendChild(a);\n",
              "      a.click();\n",
              "      div.remove();\n",
              "    }\n",
              "  "
            ]
          },
          "metadata": {}
        },
        {
          "output_type": "display_data",
          "data": {
            "text/plain": [
              "<IPython.core.display.Javascript object>"
            ],
            "application/javascript": [
              "download(\"download_e5030714-452f-472f-99e6-cd06739fc0f8\", \"attn_single_c.png\", 340959)"
            ]
          },
          "metadata": {}
        },
        {
          "output_type": "display_data",
          "data": {
            "text/plain": [
              "<IPython.core.display.Javascript object>"
            ],
            "application/javascript": [
              "\n",
              "    async function download(id, filename, size) {\n",
              "      if (!google.colab.kernel.accessAllowed) {\n",
              "        return;\n",
              "      }\n",
              "      const div = document.createElement('div');\n",
              "      const label = document.createElement('label');\n",
              "      label.textContent = `Downloading \"${filename}\": `;\n",
              "      div.appendChild(label);\n",
              "      const progress = document.createElement('progress');\n",
              "      progress.max = size;\n",
              "      div.appendChild(progress);\n",
              "      document.body.appendChild(div);\n",
              "\n",
              "      const buffers = [];\n",
              "      let downloaded = 0;\n",
              "\n",
              "      const channel = await google.colab.kernel.comms.open(id);\n",
              "      // Send a message to notify the kernel that we're ready.\n",
              "      channel.send({})\n",
              "\n",
              "      for await (const message of channel.messages) {\n",
              "        // Send a message to notify the kernel that we're ready.\n",
              "        channel.send({})\n",
              "        if (message.buffers) {\n",
              "          for (const buffer of message.buffers) {\n",
              "            buffers.push(buffer);\n",
              "            downloaded += buffer.byteLength;\n",
              "            progress.value = downloaded;\n",
              "          }\n",
              "        }\n",
              "      }\n",
              "      const blob = new Blob(buffers, {type: 'application/binary'});\n",
              "      const a = document.createElement('a');\n",
              "      a.href = window.URL.createObjectURL(blob);\n",
              "      a.download = filename;\n",
              "      div.appendChild(a);\n",
              "      a.click();\n",
              "      div.remove();\n",
              "    }\n",
              "  "
            ]
          },
          "metadata": {}
        },
        {
          "output_type": "display_data",
          "data": {
            "text/plain": [
              "<IPython.core.display.Javascript object>"
            ],
            "application/javascript": [
              "download(\"download_42704497-6a70-4967-a762-cb0ca96ac628\", \"attn_success.png\", 340959)"
            ]
          },
          "metadata": {}
        },
        {
          "output_type": "display_data",
          "data": {
            "text/plain": [
              "<IPython.core.display.Javascript object>"
            ],
            "application/javascript": [
              "\n",
              "    async function download(id, filename, size) {\n",
              "      if (!google.colab.kernel.accessAllowed) {\n",
              "        return;\n",
              "      }\n",
              "      const div = document.createElement('div');\n",
              "      const label = document.createElement('label');\n",
              "      label.textContent = `Downloading \"${filename}\": `;\n",
              "      div.appendChild(label);\n",
              "      const progress = document.createElement('progress');\n",
              "      progress.max = size;\n",
              "      div.appendChild(progress);\n",
              "      document.body.appendChild(div);\n",
              "\n",
              "      const buffers = [];\n",
              "      let downloaded = 0;\n",
              "\n",
              "      const channel = await google.colab.kernel.comms.open(id);\n",
              "      // Send a message to notify the kernel that we're ready.\n",
              "      channel.send({})\n",
              "\n",
              "      for await (const message of channel.messages) {\n",
              "        // Send a message to notify the kernel that we're ready.\n",
              "        channel.send({})\n",
              "        if (message.buffers) {\n",
              "          for (const buffer of message.buffers) {\n",
              "            buffers.push(buffer);\n",
              "            downloaded += buffer.byteLength;\n",
              "            progress.value = downloaded;\n",
              "          }\n",
              "        }\n",
              "      }\n",
              "      const blob = new Blob(buffers, {type: 'application/binary'});\n",
              "      const a = document.createElement('a');\n",
              "      a.href = window.URL.createObjectURL(blob);\n",
              "      a.download = filename;\n",
              "      div.appendChild(a);\n",
              "      a.click();\n",
              "      div.remove();\n",
              "    }\n",
              "  "
            ]
          },
          "metadata": {}
        },
        {
          "output_type": "display_data",
          "data": {
            "text/plain": [
              "<IPython.core.display.Javascript object>"
            ],
            "application/javascript": [
              "download(\"download_e5542058-5781-4edb-9293-73d7aa4af299\", \"attn_failure.png\", 352625)"
            ]
          },
          "metadata": {}
        },
        {
          "output_type": "display_data",
          "data": {
            "text/plain": [
              "<IPython.core.display.Javascript object>"
            ],
            "application/javascript": [
              "\n",
              "    async function download(id, filename, size) {\n",
              "      if (!google.colab.kernel.accessAllowed) {\n",
              "        return;\n",
              "      }\n",
              "      const div = document.createElement('div');\n",
              "      const label = document.createElement('label');\n",
              "      label.textContent = `Downloading \"${filename}\": `;\n",
              "      div.appendChild(label);\n",
              "      const progress = document.createElement('progress');\n",
              "      progress.max = size;\n",
              "      div.appendChild(progress);\n",
              "      document.body.appendChild(div);\n",
              "\n",
              "      const buffers = [];\n",
              "      let downloaded = 0;\n",
              "\n",
              "      const channel = await google.colab.kernel.comms.open(id);\n",
              "      // Send a message to notify the kernel that we're ready.\n",
              "      channel.send({})\n",
              "\n",
              "      for await (const message of channel.messages) {\n",
              "        // Send a message to notify the kernel that we're ready.\n",
              "        channel.send({})\n",
              "        if (message.buffers) {\n",
              "          for (const buffer of message.buffers) {\n",
              "            buffers.push(buffer);\n",
              "            downloaded += buffer.byteLength;\n",
              "            progress.value = downloaded;\n",
              "          }\n",
              "        }\n",
              "      }\n",
              "      const blob = new Blob(buffers, {type: 'application/binary'});\n",
              "      const a = document.createElement('a');\n",
              "      a.href = window.URL.createObjectURL(blob);\n",
              "      a.download = filename;\n",
              "      div.appendChild(a);\n",
              "      a.click();\n",
              "      div.remove();\n",
              "    }\n",
              "  "
            ]
          },
          "metadata": {}
        },
        {
          "output_type": "display_data",
          "data": {
            "text/plain": [
              "<IPython.core.display.Javascript object>"
            ],
            "application/javascript": [
              "download(\"download_a37186c9-333f-41cf-b29f-43848d9375ce\", \"simmap_b.png\", 326892)"
            ]
          },
          "metadata": {}
        }
      ]
    },
    {
      "cell_type": "markdown",
      "metadata": {
        "id": "mefSOe8eTmGP"
      },
      "source": [
        "## Object Oriented Programming codes here\n",
        "\n",
        "*You can use multiple code snippets. Just add more if needed*"
      ]
    },
    {
      "cell_type": "code",
      "execution_count": null,
      "metadata": {
        "id": "QX--1AcyPDvi",
        "colab": {
          "base_uri": "https://localhost:8080/"
        },
        "outputId": "3f56c93b-9cc6-4cd3-b213-ce2940c748c6"
      },
      "outputs": [
        {
          "output_type": "stream",
          "name": "stdout",
          "text": [
            "[Model A] acc=0.7817  macroP/R/F1=0.7735/0.7656/0.7688\n",
            "CM:\n",
            " [[1083  201]\n",
            " [ 263  579]]\n",
            "[Model B] acc=0.7380  macroP/R/F1=0.7266/0.7185/0.7215\n",
            "CM:\n",
            " [[1043  241]\n",
            " [ 316  526]]\n"
          ]
        },
        {
          "output_type": "stream",
          "name": "stderr",
          "text": [
            "/tmp/ipython-input-3648102403.py:62: UserWarning: Deterministic behavior was enabled with either `torch.use_deterministic_algorithms(True)` or `at::Context::setDeterministicAlgorithms(true)`, but this operation is not deterministic because it uses CuBLAS and you have CUDA >= 10.2. To enable deterministic behavior in this case, you must set an environment variable before running your PyTorch application: CUBLAS_WORKSPACE_CONFIG=:4096:8 or CUBLAS_WORKSPACE_CONFIG=:16:8. For more information, go to https://docs.nvidia.com/cuda/cublas/index.html#results-reproducibility (Triggered internally at /pytorch/aten/src/ATen/Context.cpp:233.)\n",
            "  return torch.bmm(pm.unsqueeze(2), hm.unsqueeze(1))  # (B, Lp, Lh)\n",
            "/tmp/ipython-input-1567827658.py:51: UserWarning: Deterministic behavior was enabled with either `torch.use_deterministic_algorithms(True)` or `at::Context::setDeterministicAlgorithms(true)`, but this operation is not deterministic because it uses CuBLAS and you have CUDA >= 10.2. To enable deterministic behavior in this case, you must set an environment variable before running your PyTorch application: CUBLAS_WORKSPACE_CONFIG=:4096:8 or CUBLAS_WORKSPACE_CONFIG=:16:8. For more information, go to https://docs.nvidia.com/cuda/cublas/index.html#results-reproducibility (Triggered internally at /pytorch/aten/src/ATen/Context.cpp:233.)\n",
            "  return torch.bmm(Q, K.transpose(1,2)) / scale\n",
            "/tmp/ipython-input-1567827658.py:66: UserWarning: Deterministic behavior was enabled with either `torch.use_deterministic_algorithms(True)` or `at::Context::setDeterministicAlgorithms(true)`, but this operation is not deterministic because it uses CuBLAS and you have CUDA >= 10.2. To enable deterministic behavior in this case, you must set an environment variable before running your PyTorch application: CUBLAS_WORKSPACE_CONFIG=:4096:8 or CUBLAS_WORKSPACE_CONFIG=:16:8. For more information, go to https://docs.nvidia.com/cuda/cublas/index.html#results-reproducibility (Triggered internally at /pytorch/aten/src/ATen/Context.cpp:233.)\n",
            "  P_att = torch.bmm(A, H_enc)\n",
            "/tmp/ipython-input-1567827658.py:69: UserWarning: Deterministic behavior was enabled with either `torch.use_deterministic_algorithms(True)` or `at::Context::setDeterministicAlgorithms(true)`, but this operation is not deterministic because it uses CuBLAS and you have CUDA >= 10.2. To enable deterministic behavior in this case, you must set an environment variable before running your PyTorch application: CUBLAS_WORKSPACE_CONFIG=:4096:8 or CUBLAS_WORKSPACE_CONFIG=:16:8. For more information, go to https://docs.nvidia.com/cuda/cublas/index.html#results-reproducibility (Triggered internally at /pytorch/aten/src/ATen/Context.cpp:233.)\n",
            "  H_att = torch.bmm(B, P_enc)\n"
          ]
        },
        {
          "output_type": "stream",
          "name": "stdout",
          "text": [
            "[Model C] acc=0.7563  macroP/R/F1=0.7588/0.7218/0.7293\n",
            "CM:\n",
            " [[1140  144]\n",
            " [ 374  468]]\n"
          ]
        },
        {
          "output_type": "execute_result",
          "data": {
            "text/plain": [
              "np.float64(0.7563499529633114)"
            ]
          },
          "metadata": {},
          "execution_count": 27
        }
      ],
      "source": [
        "# ==== OOP Demo: trainer wrapper + per-model summary (no retrain) ====\n",
        "class NLITrainer:\n",
        "    def __init__(self, model, name=\"model\"):\n",
        "        self.model = model\n",
        "        self.name = name\n",
        "\n",
        "    def test_summary(self, loader):\n",
        "        acc, y_true, y_pred = evaluate_with_preds(self.model, loader)\n",
        "        import numpy as np\n",
        "        cm = np.zeros((2,2), dtype=int)\n",
        "        for t,p in zip(y_true, y_pred): cm[t,p]+=1\n",
        "        prec, rec, f1 = [], [], []\n",
        "        for c in [0,1]:\n",
        "            tp = cm[c,c]; fp = cm[:,c].sum()-tp; fn = cm[c,:].sum()-tp\n",
        "            p = tp/(tp+fp+1e-12); r = tp/(tp+fn+1e-12)\n",
        "            prec.append(p); rec.append(r); f1.append(2*p*r/(p+r+1e-12))\n",
        "        print(f\"[{self.name}] acc={acc:.4f}  macroP/R/F1={np.mean(prec):.4f}/{np.mean(rec):.4f}/{np.mean(f1):.4f}\")\n",
        "        print(\"CM:\\n\", cm)\n",
        "        return acc\n",
        "\n",
        "NLITrainer(model,  \"Model A\").test_summary(test_loader)\n",
        "NLITrainer(modelB, \"Model B\").test_summary(test_loader)\n",
        "NLITrainer(modelC, \"Model C\").test_summary(test_loader)\n"
      ]
    }
  ],
  "metadata": {
    "accelerator": "GPU",
    "colab": {
      "gpuType": "T4",
      "provenance": [],
      "toc_visible": true,
      "include_colab_link": true
    },
    "kernelspec": {
      "display_name": "Python 3",
      "name": "python3"
    },
    "language_info": {
      "name": "python"
    }
  },
  "nbformat": 4,
  "nbformat_minor": 0
}